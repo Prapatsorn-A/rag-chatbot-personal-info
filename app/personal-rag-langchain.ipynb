{
 "cells": [
  {
   "attachments": {},
   "cell_type": "markdown",
   "metadata": {},
   "source": [
    "# Retrieval-Augmented generation (RAG)\n",
    "\n",
    "RAG is a technique for augmenting LLM knowledge with additional, often private or real-time, data.\n",
    "\n",
    "LLMs can reason about wide-ranging topics, but their knowledge is limited to the public data up to a specific point in time that they were trained on. If you want to build AI applications that can reason about private data or data introduced after a model’s cutoff date, you need to augment the knowledge of the model with the specific information it needs.\n",
    "\n",
    "Introducing `MookBot`, a personalized chatbot created to assist with all things related to Mook. Powered by LangChain technology, MookBot excels at seamlessly accessing and delivering relevant content from various documents.\n",
    "\n",
    "1. Prompt\n",
    "2. Retrieval\n",
    "3. Memory\n",
    "4. Chain\n",
    "5. Chatbot"
   ]
  },
  {
   "cell_type": "code",
   "execution_count": 1,
   "metadata": {},
   "outputs": [],
   "source": [
    "# #langchain library\n",
    "# !pip install langchain==0.1.13\n",
    "# !pip install langchain-community==0.0.38"
   ]
  },
  {
   "cell_type": "code",
   "execution_count": 2,
   "metadata": {},
   "outputs": [],
   "source": [
    "# #LLM\n",
    "# !pip install accelerate==0.26.0\n",
    "# !pip install transformers==4.45.0\n",
    "# !pip install bitsandbytes==0.41.3"
   ]
  },
  {
   "cell_type": "code",
   "execution_count": 3,
   "metadata": {},
   "outputs": [],
   "source": [
    "# #Text Embedding\n",
    "# !pip install sentence-transformers==2.2.2\n",
    "# !pip install InstructorEmbedding==1.0.1"
   ]
  },
  {
   "cell_type": "code",
   "execution_count": 4,
   "metadata": {},
   "outputs": [],
   "source": [
    "# #vectorstore\n",
    "# !pip install pymupdf==1.23.8\n",
    "# !pip install faiss-gpu\n",
    "# !pip install faiss-cpu"
   ]
  },
  {
   "cell_type": "code",
   "execution_count": 5,
   "metadata": {},
   "outputs": [],
   "source": [
    "# # Hugging Face Hub (Compatible with InstructorEmbedding)\n",
    "# !pip install huggingface_hub==0.23.3"
   ]
  },
  {
   "cell_type": "code",
   "execution_count": 6,
   "metadata": {},
   "outputs": [],
   "source": [
    "# # Other dependencies\n",
    "# !pip install torch==2.2.0\n",
    "# !pip install torchvision==0.17.0\n",
    "# !pip install nltk \n",
    "# !pip install scikit-learn\n",
    "# !pip install tiktoken"
   ]
  },
  {
   "cell_type": "code",
   "execution_count": 7,
   "metadata": {},
   "outputs": [
    {
     "data": {
      "text/plain": [
       "device(type='cuda')"
      ]
     },
     "execution_count": 7,
     "metadata": {},
     "output_type": "execute_result"
    }
   ],
   "source": [
    "import os\n",
    "import torch\n",
    "# Set GPU device\n",
    "os.environ[\"CUDA_VISIBLE_DEVICES\"] = \"1\"\n",
    "\n",
    "os.environ['http_proxy']  = 'http://192.41.170.23:3128'\n",
    "os.environ['https_proxy'] = 'http://192.41.170.23:3128'\n",
    "\n",
    "device = torch.device('cuda' if torch.cuda.is_available() else 'cpu')\n",
    "device"
   ]
  },
  {
   "attachments": {},
   "cell_type": "markdown",
   "metadata": {},
   "source": [
    "## 1. Prompt\n",
    "\n",
    "A set of instructions or input provided by a user to guide the model's response, helping it understand the context and generate relevant and coherent language-based output, such as answering questions, completing sentences, or engaging in a conversation."
   ]
  },
  {
   "cell_type": "code",
   "execution_count": 8,
   "metadata": {},
   "outputs": [
    {
     "data": {
      "text/plain": [
       "PromptTemplate(input_variables=['context', 'question'], template=\"I'm MookBot, your friendly assistant, here to answer any personal questions you have about my background and experiences. \\n    Whether you're curious about my age, education, career, or personal beliefs, feel free to ask, \\n    and I'll provide answers to help you learn more about me. \\n    Just let me know what you're wondering about, and I'll do my best to share.\\n    {context}\\n    Question: {question}\\n    Answer:\")"
      ]
     },
     "execution_count": 8,
     "metadata": {},
     "output_type": "execute_result"
    }
   ],
   "source": [
    "from langchain import PromptTemplate\n",
    "\n",
    "prompt_template = \"\"\"\n",
    "    I'm MookBot, your friendly assistant, here to answer any personal questions you have about my background and experiences. \n",
    "    Whether you're curious about my age, education, career, or personal beliefs, feel free to ask, \n",
    "    and I'll provide answers to help you learn more about me. \n",
    "    Just let me know what you're wondering about, and I'll do my best to share.\n",
    "    {context}\n",
    "    Question: {question}\n",
    "    Answer:\n",
    "    \"\"\".strip()\n",
    "\n",
    "PROMPT = PromptTemplate.from_template(\n",
    "    template = prompt_template\n",
    ")\n",
    "\n",
    "PROMPT\n",
    "#using str.format \n",
    "#The placeholder is defined using curly brackets: {} {}"
   ]
  },
  {
   "cell_type": "code",
   "execution_count": 9,
   "metadata": {},
   "outputs": [
    {
     "data": {
      "text/plain": [
       "\"I'm MookBot, your friendly assistant, here to answer any personal questions you have about my background and experiences. \\n    Whether you're curious about my age, education, career, or personal beliefs, feel free to ask, \\n    and I'll provide answers to help you learn more about me. \\n    Just let me know what you're wondering about, and I'll do my best to share.\\n    I am currently pursuing a Master's degree in Data Science and AI. Before enrolling in the program, I gained 4 years of experience as a Data Analyst.\\n    Question: What is your highest level of education?\\n    Answer:\""
      ]
     },
     "execution_count": 9,
     "metadata": {},
     "output_type": "execute_result"
    }
   ],
   "source": [
    "PROMPT.format(\n",
    "    context=\"I am currently pursuing a Master's degree in Data Science and AI. Before enrolling in the program, I gained 4 years of experience as a Data Analyst.\",\n",
    "    question=\"What is your highest level of education?\"\n",
    ")"
   ]
  },
  {
   "cell_type": "code",
   "execution_count": 10,
   "metadata": {},
   "outputs": [],
   "source": [
    "with open(\"prompt_template.txt\", \"w\") as file:\n",
    "    file.write(prompt_template)"
   ]
  },
  {
   "attachments": {},
   "cell_type": "markdown",
   "metadata": {},
   "source": [
    "Note : [How to improve prompting (Zero-shot, Few-shot, Chain-of-Thought, etc.](https://github.com/chaklam-silpasuwanchai/Natural-Language-Processing/blob/main/Code/05%20-%20RAG/advance/cot-tot-prompting.ipynb)"
   ]
  },
  {
   "attachments": {},
   "cell_type": "markdown",
   "metadata": {},
   "source": [
    "## 2. Retrieval\n",
    "\n",
    "1. `Document loaders` : Load documents from many different sources (HTML, PDF, code). \n",
    "2. `Document transformers` : One of the essential steps in document retrieval is breaking down a large document into smaller, relevant chunks to enhance the retrieval process.\n",
    "3. `Text embedding models` : Embeddings capture the semantic meaning of the text, allowing you to quickly and efficiently find other pieces of text that are similar.\n",
    "4. `Vector stores`: there has emerged a need for databases to support efficient storage and searching of these embeddings.\n",
    "5. `Retrievers` : Once the data is in the database, you still need to retrieve it."
   ]
  },
  {
   "attachments": {},
   "cell_type": "markdown",
   "metadata": {},
   "source": [
    "### 2.1 Document Loaders \n",
    "Use document loaders to load data from a source as Document's. A Document is a piece of text and associated metadata. For example, there are document loaders for loading a simple .txt file, for loading the text contents of any web page, or even for loading a transcript of a YouTube video.\n",
    "\n",
    "[PDF Loader](https://python.langchain.com/docs/modules/data_connection/document_loaders/pdf)\n",
    "\n",
    "[Download Document](https://web.stanford.edu/~jurafsky/slp3/)"
   ]
  },
  {
   "cell_type": "code",
   "execution_count": 11,
   "metadata": {},
   "outputs": [],
   "source": [
    "from langchain.document_loaders import PyMuPDFLoader\n",
    "\n",
    "resume_path = \"docs/pdf/Prapatsorn_Resume.pdf\"\n",
    "challenges_and_goals_path = \"docs/txt/Challenges-and-Goals.txt\"\n",
    "tech_and_society_path = \"docs/txt/Technology-and-Society.txt\""
   ]
  },
  {
   "cell_type": "code",
   "execution_count": 12,
   "metadata": {},
   "outputs": [],
   "source": [
    "# Load documents\n",
    "loader = PyMuPDFLoader(resume_path)\n",
    "documents = loader.load()\n",
    "\n",
    "with open(challenges_and_goals_path, \"r\") as file:\n",
    "    challenges_and_goals = file.read()\n",
    "with open(tech_and_society_path, \"r\") as file:\n",
    "    tech_and_society = file.read()"
   ]
  },
  {
   "cell_type": "code",
   "execution_count": 13,
   "metadata": {},
   "outputs": [],
   "source": [
    "# Combine all documents into a single list\n",
    "documents.append({\"page_content\": challenges_and_goals, \"metadata\": {\"source\": \"Challenges-and-Goals.txt\"}})\n",
    "documents.append({\"page_content\": tech_and_society, \"metadata\": {\"source\": \"Technology-and-Society.txt\"}})"
   ]
  },
  {
   "cell_type": "code",
   "execution_count": 14,
   "metadata": {},
   "outputs": [],
   "source": [
    "# documents"
   ]
  },
  {
   "cell_type": "code",
   "execution_count": 15,
   "metadata": {},
   "outputs": [
    {
     "data": {
      "text/plain": [
       "3"
      ]
     },
     "execution_count": 15,
     "metadata": {},
     "output_type": "execute_result"
    }
   ],
   "source": [
    "len(documents)"
   ]
  },
  {
   "cell_type": "code",
   "execution_count": 16,
   "metadata": {},
   "outputs": [
    {
     "name": "stdout",
     "output_type": "stream",
     "text": [
      "<class 'list'>\n",
      "<class 'langchain_core.documents.base.Document'>\n",
      "<class 'dict'>\n",
      "<class 'dict'>\n"
     ]
    }
   ],
   "source": [
    "print(type(documents))\n",
    "print(type(documents[0]))\n",
    "print(type(documents[1]))\n",
    "print(type(documents[2]))"
   ]
  },
  {
   "cell_type": "code",
   "execution_count": 17,
   "metadata": {},
   "outputs": [],
   "source": [
    "# Convert dictionaries to Document objects\n",
    "from langchain_core.documents import Document\n",
    "\n",
    "for i, doc in enumerate(documents):\n",
    "    if isinstance(doc, dict):\n",
    "        documents[i] = Document(page_content=doc[\"page_content\"], metadata=doc.get(\"metadata\", {}))"
   ]
  },
  {
   "cell_type": "code",
   "execution_count": 18,
   "metadata": {},
   "outputs": [
    {
     "name": "stdout",
     "output_type": "stream",
     "text": [
      "<class 'list'>\n",
      "<class 'langchain_core.documents.base.Document'>\n",
      "<class 'langchain_core.documents.base.Document'>\n",
      "<class 'langchain_core.documents.base.Document'>\n"
     ]
    }
   ],
   "source": [
    "print(type(documents))\n",
    "print(type(documents[0]))\n",
    "print(type(documents[1]))\n",
    "print(type(documents[2]))"
   ]
  },
  {
   "cell_type": "code",
   "execution_count": 19,
   "metadata": {},
   "outputs": [
    {
     "data": {
      "text/plain": [
       "Document(page_content=\"Prapatsorn Alongkornpradub \\n \\nCORE COMPETENCIES AND SKILLS \\n \\n● Technical Skills: \\n○ Microsoft Office Suite (Excel, Word, PowerPoint), G Suite, Google Data Studio \\n○ Beginner in Tableau, Power BI, Google Analytics, Microsoft Excel VBA \\n● Language Skills: \\n○ Thai (Native), English (IELTS: 6.5/9.0) \\n● Key Strengths: \\n○ Analytical, logical, and problem-solving skills \\n○ Fast learner, open-minded, detail-oriented, and teamwork with a “can do” attitude \\n○ Experience working under time pressure and cultural diversity \\nEDUCATION \\nAsian Institute of Technology (AIT), Pathum Thani, Thailand \\n \\nMaster of Science in Data Science and Artificial Intelligence \\n \\n \\n• Expected Graduation: May 2025 \\nMahidol University, Bangkok, Thailand \\n \\nBachelor of Science in Actuarial Science (International Program) \\n \\n \\n• Graduation: December 2020 \\nWORK EXPERIENCE \\nData Analyst \\n \\n \\n \\n \\n \\n \\n December 2023 – July 2024 \\n \\nThairath Group (Bangkok, Thailand) \\n \\nReporting Analyst \\n \\n \\n \\n \\n \\n             July 2022 – July 2023 \\n \\nTDCX (Bangkok, Thailand) \\n \\n \\n• Recorded and updated the database for all team's usage \\n \\n \\n• Managed multiple reports to ensure all data was accurate and organized \\n \\n \\n• Generated Excel calculation files to reduce input time and improve productivity \\n \\n \\n• Supported managers and performed other administrative duties as assigned \\n \\n \\n• Collaborated with other departments to develop best practices for performance  \\n \\n \\n   and operational efficiency \\nData Analyst \\n \\n \\n \\n \\n \\n \\n      March 2021 – June 2022 \\n \\nToyota Nakornping Chiangmai Company Limited (Chiangmai, Thailand) \\n \\n \\n• Utilized advanced Microsoft Excel and Google Sheets to analyze and create reports \\n \\n \\n   on a daily, weekly, monthly, and yearly basis \\n \\n \\n• Worked on ad-hoc analysis and visualizations from data derived from  \\n \\n \\n   various sources \\n \\n \\n• Presented data and conclusions to the team to improve sales strategies \\n \\n \\n• Coordinated with other departments to update and manage salesmen’s data \\nData Analyst Intern  \\n \\n \\n \\n \\n \\n          May 2019 – June 2019 \\n \\nWorkVenture Technologies Company Limited (Bangkok, Thailand) \\n \\n \\n• Analyzed customer data based on user's behavior, background, and web traffic \\n \\n \\n• Coordinated with the sales department to develop strategies \\n\", metadata={'source': 'docs/pdf/Prapatsorn_Resume.pdf', 'file_path': 'docs/pdf/Prapatsorn_Resume.pdf', 'page': 0, 'total_pages': 1, 'format': 'PDF 1.4', 'title': 'Prapatsorn_Resume', 'author': '', 'subject': '', 'keywords': '', 'creator': '', 'producer': 'Skia/PDF m135 Google Docs Renderer', 'creationDate': '', 'modDate': '', 'trapped': ''})"
      ]
     },
     "execution_count": 19,
     "metadata": {},
     "output_type": "execute_result"
    }
   ],
   "source": [
    "documents[0]"
   ]
  },
  {
   "cell_type": "code",
   "execution_count": 20,
   "metadata": {},
   "outputs": [
    {
     "data": {
      "text/plain": [
       "Document(page_content=\"The most challenging part of being a master’s student has been the transition from my undergraduate studies in Actuarial Science to my current master's program in Data Science and AI. Since my background isn't directly related to data science, I sometimes find it difficult to fully grasp some of the more technical concepts. I am working hard to bridge the gap in my knowledge, but it has been challenging to keep up with the advanced topics.\\n\\nAs for my research interests, I honestly haven't decided on a specific topic yet. However, my main goal during my master's studies is to build a strong understanding of both the theory and the practical skills required in data science and AI. I hope this will help me feel confident in applying my knowledge and eventually secure a job as a data scientist.\", metadata={'source': 'Challenges-and-Goals.txt'})"
      ]
     },
     "execution_count": 20,
     "metadata": {},
     "output_type": "execute_result"
    }
   ],
   "source": [
    "documents[1]"
   ]
  },
  {
   "cell_type": "code",
   "execution_count": 21,
   "metadata": {},
   "outputs": [
    {
     "data": {
      "text/plain": [
       "Document(page_content='I believe technology has a big impact on society. It can improve things like education, healthcare, and communication, and it helps make life easier and more efficient. But technology also brings problems, such as unequal access, privacy issues, and ethical concerns. We need to use technology carefully to make sure it helps people without causing harm.\\n\\nCultural values should be important when creating new technologies. As technology becomes part of everyday life, it should reflect the beliefs and needs of different cultures. Technology should be fair, respect privacy, and help create a more equal society. By considering cultural values, we can make sure that new technologies benefit everyone and are used in a way that is good for the world.', metadata={'source': 'Technology-and-Society.txt'})"
      ]
     },
     "execution_count": 21,
     "metadata": {},
     "output_type": "execute_result"
    }
   ],
   "source": [
    "documents[2]"
   ]
  },
  {
   "attachments": {},
   "cell_type": "markdown",
   "metadata": {},
   "source": [
    "### 2.2 Document Transformers\n",
    "\n",
    "This text splitter is the recommended one for generic text. It is parameterized by a list of characters and attempts to split on them in order until the chunks are small enough.\n",
    "\n",
    "**Note for Small Documents:**\n",
    "For documents that are small (e.g., a single page with a few words), there is no need to chunk the text. The splitting process is more useful for larger documents that require division into smaller pieces. In the case of small documents, you can skip chunking entirely and use the document as a whole without splitting it."
   ]
  },
  {
   "cell_type": "code",
   "execution_count": 22,
   "metadata": {},
   "outputs": [],
   "source": [
    "# from langchain.text_splitter import RecursiveCharacterTextSplitter\n",
    "\n",
    "# text_splitter = RecursiveCharacterTextSplitter(\n",
    "#     chunk_size = 200,\n",
    "#     chunk_overlap = 2\n",
    "# )\n",
    "\n",
    "# doc = text_splitter.split_documents(documents)\n",
    "# doc[0]\n",
    "# len(doc)"
   ]
  },
  {
   "cell_type": "code",
   "execution_count": 23,
   "metadata": {},
   "outputs": [],
   "source": [
    "doc = documents"
   ]
  },
  {
   "cell_type": "code",
   "execution_count": 24,
   "metadata": {},
   "outputs": [
    {
     "data": {
      "text/plain": [
       "3"
      ]
     },
     "execution_count": 24,
     "metadata": {},
     "output_type": "execute_result"
    }
   ],
   "source": [
    "len(doc)"
   ]
  },
  {
   "cell_type": "code",
   "execution_count": 25,
   "metadata": {},
   "outputs": [
    {
     "data": {
      "text/plain": [
       "[Document(page_content=\"Prapatsorn Alongkornpradub \\n \\nCORE COMPETENCIES AND SKILLS \\n \\n● Technical Skills: \\n○ Microsoft Office Suite (Excel, Word, PowerPoint), G Suite, Google Data Studio \\n○ Beginner in Tableau, Power BI, Google Analytics, Microsoft Excel VBA \\n● Language Skills: \\n○ Thai (Native), English (IELTS: 6.5/9.0) \\n● Key Strengths: \\n○ Analytical, logical, and problem-solving skills \\n○ Fast learner, open-minded, detail-oriented, and teamwork with a “can do” attitude \\n○ Experience working under time pressure and cultural diversity \\nEDUCATION \\nAsian Institute of Technology (AIT), Pathum Thani, Thailand \\n \\nMaster of Science in Data Science and Artificial Intelligence \\n \\n \\n• Expected Graduation: May 2025 \\nMahidol University, Bangkok, Thailand \\n \\nBachelor of Science in Actuarial Science (International Program) \\n \\n \\n• Graduation: December 2020 \\nWORK EXPERIENCE \\nData Analyst \\n \\n \\n \\n \\n \\n \\n December 2023 – July 2024 \\n \\nThairath Group (Bangkok, Thailand) \\n \\nReporting Analyst \\n \\n \\n \\n \\n \\n             July 2022 – July 2023 \\n \\nTDCX (Bangkok, Thailand) \\n \\n \\n• Recorded and updated the database for all team's usage \\n \\n \\n• Managed multiple reports to ensure all data was accurate and organized \\n \\n \\n• Generated Excel calculation files to reduce input time and improve productivity \\n \\n \\n• Supported managers and performed other administrative duties as assigned \\n \\n \\n• Collaborated with other departments to develop best practices for performance  \\n \\n \\n   and operational efficiency \\nData Analyst \\n \\n \\n \\n \\n \\n \\n      March 2021 – June 2022 \\n \\nToyota Nakornping Chiangmai Company Limited (Chiangmai, Thailand) \\n \\n \\n• Utilized advanced Microsoft Excel and Google Sheets to analyze and create reports \\n \\n \\n   on a daily, weekly, monthly, and yearly basis \\n \\n \\n• Worked on ad-hoc analysis and visualizations from data derived from  \\n \\n \\n   various sources \\n \\n \\n• Presented data and conclusions to the team to improve sales strategies \\n \\n \\n• Coordinated with other departments to update and manage salesmen’s data \\nData Analyst Intern  \\n \\n \\n \\n \\n \\n          May 2019 – June 2019 \\n \\nWorkVenture Technologies Company Limited (Bangkok, Thailand) \\n \\n \\n• Analyzed customer data based on user's behavior, background, and web traffic \\n \\n \\n• Coordinated with the sales department to develop strategies \\n\", metadata={'source': 'docs/pdf/Prapatsorn_Resume.pdf', 'file_path': 'docs/pdf/Prapatsorn_Resume.pdf', 'page': 0, 'total_pages': 1, 'format': 'PDF 1.4', 'title': 'Prapatsorn_Resume', 'author': '', 'subject': '', 'keywords': '', 'creator': '', 'producer': 'Skia/PDF m135 Google Docs Renderer', 'creationDate': '', 'modDate': '', 'trapped': ''}),\n",
       " Document(page_content=\"The most challenging part of being a master’s student has been the transition from my undergraduate studies in Actuarial Science to my current master's program in Data Science and AI. Since my background isn't directly related to data science, I sometimes find it difficult to fully grasp some of the more technical concepts. I am working hard to bridge the gap in my knowledge, but it has been challenging to keep up with the advanced topics.\\n\\nAs for my research interests, I honestly haven't decided on a specific topic yet. However, my main goal during my master's studies is to build a strong understanding of both the theory and the practical skills required in data science and AI. I hope this will help me feel confident in applying my knowledge and eventually secure a job as a data scientist.\", metadata={'source': 'Challenges-and-Goals.txt'}),\n",
       " Document(page_content='I believe technology has a big impact on society. It can improve things like education, healthcare, and communication, and it helps make life easier and more efficient. But technology also brings problems, such as unequal access, privacy issues, and ethical concerns. We need to use technology carefully to make sure it helps people without causing harm.\\n\\nCultural values should be important when creating new technologies. As technology becomes part of everyday life, it should reflect the beliefs and needs of different cultures. Technology should be fair, respect privacy, and help create a more equal society. By considering cultural values, we can make sure that new technologies benefit everyone and are used in a way that is good for the world.', metadata={'source': 'Technology-and-Society.txt'})]"
      ]
     },
     "execution_count": 25,
     "metadata": {},
     "output_type": "execute_result"
    }
   ],
   "source": [
    "doc"
   ]
  },
  {
   "attachments": {},
   "cell_type": "markdown",
   "metadata": {},
   "source": [
    "### 2.3 Text Embedding Models\n",
    "Embeddings create a vector representation of a piece of text. This is useful because it means we can think about text in the vector space, and do things like semantic search where we look for pieces of text that are most similar in the vector space.\n",
    "\n",
    "*Note* Instructor Model : [Huggingface](gingface.co/hkunlp/instructor-base) | [Paper](https://arxiv.org/abs/2212.09741)"
   ]
  },
  {
   "cell_type": "code",
   "execution_count": 26,
   "metadata": {},
   "outputs": [
    {
     "name": "stderr",
     "output_type": "stream",
     "text": [
      "/home/jupyter-st124846/.local/lib/python3.12/site-packages/InstructorEmbedding/instructor.py:7: TqdmExperimentalWarning: Using `tqdm.autonotebook.tqdm` in notebook mode. Use `tqdm.tqdm` instead to force console mode (e.g. in jupyter console)\n",
      "  from tqdm.autonotebook import trange\n"
     ]
    },
    {
     "name": "stdout",
     "output_type": "stream",
     "text": [
      "load INSTRUCTOR_Transformer\n",
      "max_seq_length  512\n"
     ]
    },
    {
     "name": "stderr",
     "output_type": "stream",
     "text": [
      "/home/jupyter-st124846/.local/lib/python3.12/site-packages/transformers/tokenization_utils_base.py:1617: FutureWarning: `clean_up_tokenization_spaces` was not set. It will be set to `True` by default. This behavior will be deprecated in transformers v4.45, and will be then set to `False` by default. For more details check this issue: https://github.com/huggingface/transformers/issues/31884\n",
      "  warnings.warn(\n"
     ]
    }
   ],
   "source": [
    "import torch\n",
    "from langchain.embeddings import HuggingFaceInstructEmbeddings\n",
    "\n",
    "model_name = 'hkunlp/instructor-base'\n",
    "\n",
    "embedding_model = HuggingFaceInstructEmbeddings(\n",
    "    model_name = model_name,\n",
    "    model_kwargs = {\"device\" : device}\n",
    ")"
   ]
  },
  {
   "attachments": {},
   "cell_type": "markdown",
   "metadata": {},
   "source": [
    "### 2.4 Vector Stores\n",
    "\n",
    "One of the most common ways to store and search over unstructured data is to embed it and store the resulting embedding vectors, and then at query time to embed the unstructured query and retrieve the embedding vectors that are 'most similar' to the embedded query. A vector store takes care of storing embedded data and performing vector search for you."
   ]
  },
  {
   "cell_type": "code",
   "execution_count": 27,
   "metadata": {},
   "outputs": [],
   "source": [
    "#locate vectorstore\n",
    "vector_path = 'vector-store'\n",
    "if not os.path.exists(vector_path):\n",
    "    os.makedirs(vector_path)\n",
    "    print('create path done')"
   ]
  },
  {
   "cell_type": "code",
   "execution_count": 28,
   "metadata": {},
   "outputs": [],
   "source": [
    "#save vector locally\n",
    "from langchain.vectorstores import FAISS\n",
    "\n",
    "vectordb = FAISS.from_documents(\n",
    "    documents = doc,\n",
    "    embedding = embedding_model\n",
    ")\n",
    "\n",
    "db_file_name = 'personal_info'\n",
    "\n",
    "vectordb.save_local(\n",
    "    folder_path = os.path.join(vector_path, db_file_name),\n",
    "    index_name = 'personal' #default index\n",
    ")"
   ]
  },
  {
   "attachments": {},
   "cell_type": "markdown",
   "metadata": {},
   "source": [
    "### 2.5 retrievers\n",
    "A retriever is an interface that returns documents given an unstructured query. It is more general than a vector store. A retriever does not need to be able to store documents, only to return (or retrieve) them. Vector stores can be used as the backbone of a retriever, but there are other types of retrievers as well."
   ]
  },
  {
   "cell_type": "code",
   "execution_count": 29,
   "metadata": {},
   "outputs": [],
   "source": [
    "#calling vector from local\n",
    "vector_path = 'vector-store'\n",
    "db_file_name = 'personal_info'\n",
    "\n",
    "vectordb = FAISS.load_local(\n",
    "    folder_path = os.path.join(vector_path, db_file_name),\n",
    "    embeddings = embedding_model,\n",
    "    index_name = 'personal', #default index\n",
    "    allow_dangerous_deserialization=True  # Allow loading pickle file\n",
    ")   "
   ]
  },
  {
   "cell_type": "code",
   "execution_count": 30,
   "metadata": {},
   "outputs": [
    {
     "data": {
      "text/plain": [
       "<langchain_community.vectorstores.faiss.FAISS at 0x7d7ffef56870>"
      ]
     },
     "execution_count": 30,
     "metadata": {},
     "output_type": "execute_result"
    }
   ],
   "source": [
    "vectordb"
   ]
  },
  {
   "cell_type": "code",
   "execution_count": 31,
   "metadata": {},
   "outputs": [],
   "source": [
    "#ready to use\n",
    "retriever = vectordb.as_retriever()"
   ]
  },
  {
   "cell_type": "code",
   "execution_count": 32,
   "metadata": {},
   "outputs": [
    {
     "name": "stderr",
     "output_type": "stream",
     "text": [
      "/home/jupyter-st124846/.local/lib/python3.12/site-packages/langchain_core/_api/deprecation.py:119: LangChainDeprecationWarning: The method `BaseRetriever.get_relevant_documents` was deprecated in langchain-core 0.1.46 and will be removed in 0.3.0. Use invoke instead.\n",
      "  warn_deprecated(\n"
     ]
    },
    {
     "data": {
      "text/plain": [
       "[Document(page_content=\"Prapatsorn Alongkornpradub \\n \\nCORE COMPETENCIES AND SKILLS \\n \\n● Technical Skills: \\n○ Microsoft Office Suite (Excel, Word, PowerPoint), G Suite, Google Data Studio \\n○ Beginner in Tableau, Power BI, Google Analytics, Microsoft Excel VBA \\n● Language Skills: \\n○ Thai (Native), English (IELTS: 6.5/9.0) \\n● Key Strengths: \\n○ Analytical, logical, and problem-solving skills \\n○ Fast learner, open-minded, detail-oriented, and teamwork with a “can do” attitude \\n○ Experience working under time pressure and cultural diversity \\nEDUCATION \\nAsian Institute of Technology (AIT), Pathum Thani, Thailand \\n \\nMaster of Science in Data Science and Artificial Intelligence \\n \\n \\n• Expected Graduation: May 2025 \\nMahidol University, Bangkok, Thailand \\n \\nBachelor of Science in Actuarial Science (International Program) \\n \\n \\n• Graduation: December 2020 \\nWORK EXPERIENCE \\nData Analyst \\n \\n \\n \\n \\n \\n \\n December 2023 – July 2024 \\n \\nThairath Group (Bangkok, Thailand) \\n \\nReporting Analyst \\n \\n \\n \\n \\n \\n             July 2022 – July 2023 \\n \\nTDCX (Bangkok, Thailand) \\n \\n \\n• Recorded and updated the database for all team's usage \\n \\n \\n• Managed multiple reports to ensure all data was accurate and organized \\n \\n \\n• Generated Excel calculation files to reduce input time and improve productivity \\n \\n \\n• Supported managers and performed other administrative duties as assigned \\n \\n \\n• Collaborated with other departments to develop best practices for performance  \\n \\n \\n   and operational efficiency \\nData Analyst \\n \\n \\n \\n \\n \\n \\n      March 2021 – June 2022 \\n \\nToyota Nakornping Chiangmai Company Limited (Chiangmai, Thailand) \\n \\n \\n• Utilized advanced Microsoft Excel and Google Sheets to analyze and create reports \\n \\n \\n   on a daily, weekly, monthly, and yearly basis \\n \\n \\n• Worked on ad-hoc analysis and visualizations from data derived from  \\n \\n \\n   various sources \\n \\n \\n• Presented data and conclusions to the team to improve sales strategies \\n \\n \\n• Coordinated with other departments to update and manage salesmen’s data \\nData Analyst Intern  \\n \\n \\n \\n \\n \\n          May 2019 – June 2019 \\n \\nWorkVenture Technologies Company Limited (Bangkok, Thailand) \\n \\n \\n• Analyzed customer data based on user's behavior, background, and web traffic \\n \\n \\n• Coordinated with the sales department to develop strategies \\n\", metadata={'source': 'docs/pdf/Prapatsorn_Resume.pdf', 'file_path': 'docs/pdf/Prapatsorn_Resume.pdf', 'page': 0, 'total_pages': 1, 'format': 'PDF 1.4', 'title': 'Prapatsorn_Resume', 'author': '', 'subject': '', 'keywords': '', 'creator': '', 'producer': 'Skia/PDF m135 Google Docs Renderer', 'creationDate': '', 'modDate': '', 'trapped': ''}),\n",
       " Document(page_content=\"The most challenging part of being a master’s student has been the transition from my undergraduate studies in Actuarial Science to my current master's program in Data Science and AI. Since my background isn't directly related to data science, I sometimes find it difficult to fully grasp some of the more technical concepts. I am working hard to bridge the gap in my knowledge, but it has been challenging to keep up with the advanced topics.\\n\\nAs for my research interests, I honestly haven't decided on a specific topic yet. However, my main goal during my master's studies is to build a strong understanding of both the theory and the practical skills required in data science and AI. I hope this will help me feel confident in applying my knowledge and eventually secure a job as a data scientist.\", metadata={'source': 'Challenges-and-Goals.txt'}),\n",
       " Document(page_content='I believe technology has a big impact on society. It can improve things like education, healthcare, and communication, and it helps make life easier and more efficient. But technology also brings problems, such as unequal access, privacy issues, and ethical concerns. We need to use technology carefully to make sure it helps people without causing harm.\\n\\nCultural values should be important when creating new technologies. As technology becomes part of everyday life, it should reflect the beliefs and needs of different cultures. Technology should be fair, respect privacy, and help create a more equal society. By considering cultural values, we can make sure that new technologies benefit everyone and are used in a way that is good for the world.', metadata={'source': 'Technology-and-Society.txt'})]"
      ]
     },
     "execution_count": 32,
     "metadata": {},
     "output_type": "execute_result"
    }
   ],
   "source": [
    "retriever.get_relevant_documents(\"What programming languages are you proficient in?\")"
   ]
  },
  {
   "attachments": {},
   "cell_type": "markdown",
   "metadata": {},
   "source": [
    "## 3. Memory\n",
    "\n",
    "One of the core utility classes underpinning most (if not all) memory modules is the ChatMessageHistory class. This is a super lightweight wrapper that provides convenience methods for saving HumanMessages, AIMessages, and then fetching them all.\n",
    "\n",
    "You may want to use this class directly if you are managing memory outside of a chain.\n"
   ]
  },
  {
   "cell_type": "code",
   "execution_count": 33,
   "metadata": {},
   "outputs": [
    {
     "data": {
      "text/plain": [
       "InMemoryChatMessageHistory(messages=[])"
      ]
     },
     "execution_count": 33,
     "metadata": {},
     "output_type": "execute_result"
    }
   ],
   "source": [
    "from langchain.memory import ChatMessageHistory\n",
    "\n",
    "history = ChatMessageHistory()\n",
    "history"
   ]
  },
  {
   "cell_type": "code",
   "execution_count": 34,
   "metadata": {},
   "outputs": [],
   "source": [
    "history.add_user_message('hi')\n",
    "history.add_ai_message('Whats up?')\n",
    "history.add_user_message('How are you')\n",
    "history.add_ai_message('I\\'m quite good. How about you?')"
   ]
  },
  {
   "cell_type": "code",
   "execution_count": 35,
   "metadata": {},
   "outputs": [
    {
     "data": {
      "text/plain": [
       "InMemoryChatMessageHistory(messages=[HumanMessage(content='hi'), AIMessage(content='Whats up?'), HumanMessage(content='How are you'), AIMessage(content=\"I'm quite good. How about you?\")])"
      ]
     },
     "execution_count": 35,
     "metadata": {},
     "output_type": "execute_result"
    }
   ],
   "source": [
    "history"
   ]
  },
  {
   "attachments": {},
   "cell_type": "markdown",
   "metadata": {},
   "source": [
    "### 3.1 Memory types\n",
    "\n",
    "There are many different types of memory. Each has their own parameters, their own return types, and is useful in different scenarios. \n",
    "- Converstaion Buffer\n",
    "- Converstaion Buffer Window"
   ]
  },
  {
   "attachments": {},
   "cell_type": "markdown",
   "metadata": {},
   "source": [
    "What variables get returned from memory\n",
    "\n",
    "Before going into the chain, various variables are read from memory. These have specific names which need to align with the variables the chain expects. You can see what these variables are by calling memory.load_memory_variables({}). Note that the empty dictionary that we pass in is just a placeholder for real variables. If the memory type you are using is dependent upon the input variables, you may need to pass some in."
   ]
  },
  {
   "attachments": {},
   "cell_type": "markdown",
   "metadata": {},
   "source": [
    "In this case, you can see that load_memory_variables returns a single key, history. This means that your chain (and likely your prompt) should expect an input named history. You can usually control this variable through parameters on the memory class. For example, if you want the memory variables to be returned in the key chat_history you can do:"
   ]
  },
  {
   "attachments": {},
   "cell_type": "markdown",
   "metadata": {},
   "source": [
    "#### Converstaion Buffer\n",
    "This memory allows for storing messages and then extracts the messages in a variable."
   ]
  },
  {
   "cell_type": "code",
   "execution_count": 36,
   "metadata": {},
   "outputs": [
    {
     "data": {
      "text/plain": [
       "{'history': \"Human: hi\\nAI: What's up?\\nHuman: How are you?\\nAI: I'm quite good. How about you?\"}"
      ]
     },
     "execution_count": 36,
     "metadata": {},
     "output_type": "execute_result"
    }
   ],
   "source": [
    "from langchain.memory import ConversationBufferMemory\n",
    "\n",
    "memory = ConversationBufferMemory()\n",
    "memory.save_context({'input':'hi'}, {'output':'What\\'s up?'})\n",
    "memory.save_context({\"input\":'How are you?'},{'output': 'I\\'m quite good. How about you?'})\n",
    "memory.load_memory_variables({})"
   ]
  },
  {
   "cell_type": "code",
   "execution_count": 37,
   "metadata": {},
   "outputs": [
    {
     "data": {
      "text/plain": [
       "{'history': [HumanMessage(content='hi'),\n",
       "  AIMessage(content=\"What's up?\"),\n",
       "  HumanMessage(content='How are you?'),\n",
       "  AIMessage(content=\"I'm quite good. How about you?\")]}"
      ]
     },
     "execution_count": 37,
     "metadata": {},
     "output_type": "execute_result"
    }
   ],
   "source": [
    "from langchain.memory import ConversationBufferMemory\n",
    "\n",
    "memory = ConversationBufferMemory(return_messages = True)\n",
    "memory.save_context({'input':'hi'}, {'output':'What\\'s up?'})\n",
    "memory.save_context({\"input\":'How are you?'},{'output': 'I\\'m quite good. How about you?'})\n",
    "memory.load_memory_variables({})"
   ]
  },
  {
   "attachments": {},
   "cell_type": "markdown",
   "metadata": {},
   "source": [
    "#### Conversation Buffer Window\n",
    "- it keeps a list of the interactions of the conversation over time. \n",
    "- it only uses the last K interactions. \n",
    "- it can be useful for keeping a sliding window of the most recent interactions, so the buffer does not get too large."
   ]
  },
  {
   "cell_type": "code",
   "execution_count": 38,
   "metadata": {},
   "outputs": [
    {
     "data": {
      "text/plain": [
       "{'history': \"Human: How are you?\\nAI: I'm quite good. How about you?\"}"
      ]
     },
     "execution_count": 38,
     "metadata": {},
     "output_type": "execute_result"
    }
   ],
   "source": [
    "from langchain.memory import ConversationBufferWindowMemory\n",
    "\n",
    "memory = ConversationBufferWindowMemory(k=1)\n",
    "memory.save_context({'input':'hi'}, {'output':'What\\'s up?'})\n",
    "memory.save_context({\"input\":'How are you?'},{'output': 'I\\'m quite good. How about you?'})\n",
    "memory.load_memory_variables({})"
   ]
  },
  {
   "attachments": {},
   "cell_type": "markdown",
   "metadata": {},
   "source": [
    "## 4. Chain\n",
    "\n",
    "Using an LLM in isolation is fine for simple applications, but more complex applications require chaining LLMs - either with each other or with other components.\n",
    "\n",
    "An `LLMChain` is a simple chain that adds some functionality around language models.\n",
    "- it consists of a `PromptTemplate` and a `LM` (either an LLM or chat model).\n",
    "- it formats the prompt template using the input key values provided (and also memory key values, if available), \n",
    "- it passes the formatted string to LLM and returns the LLM output.\n",
    "\n",
    "Note : [Download Fastchat Model Here](https://huggingface.co/lmsys/fastchat-t5-3b-v1.0)"
   ]
  },
  {
   "cell_type": "code",
   "execution_count": 39,
   "metadata": {},
   "outputs": [],
   "source": [
    "# %cd ./models\n",
    "# !git clone https://huggingface.co/lmsys/fastchat-t5-3b-v1.0"
   ]
  },
  {
   "cell_type": "code",
   "execution_count": 40,
   "metadata": {},
   "outputs": [],
   "source": [
    "from transformers import AutoTokenizer, pipeline, AutoModelForSeq2SeqLM\n",
    "from transformers import BitsAndBytesConfig\n",
    "from langchain import HuggingFacePipeline\n",
    "import torch"
   ]
  },
  {
   "cell_type": "code",
   "execution_count": 41,
   "metadata": {},
   "outputs": [
    {
     "name": "stderr",
     "output_type": "stream",
     "text": [
      "You are using the default legacy behaviour of the <class 'transformers.models.t5.tokenization_t5.T5Tokenizer'>. This is expected, and simply means that the `legacy` (previous) behavior will be used so nothing changes for you. If you want to use the new behaviour, set `legacy=False`. This should only be set if you understand what it means, and thoroughly read the reason why this was added as explained in https://github.com/huggingface/transformers/pull/24565\n"
     ]
    }
   ],
   "source": [
    "model_id = 'lmsys/fastchat-t5-3b-v1.0'\n",
    "\n",
    "tokenizer = AutoTokenizer.from_pretrained(model_id,use_fast=False)\n",
    "tokenizer.save_pretrained('fastchat-t5-3b-v1.0')\n",
    "\n",
    "tokenizer.pad_token_id = tokenizer.eos_token_id\n",
    "\n",
    "# bitsandbyte_config = BitsAndBytesConfig(\n",
    "#     load_in_4bit = True,\n",
    "#     bnb_4bit_quant_type = \"nf4\",\n",
    "#     bnb_4bit_compute_dtype = torch.float16,\n",
    "#     bnb_4bit_use_double_quant = True\n",
    "# )\n",
    "\n",
    "# model = AutoModelForSeq2SeqLM.from_pretrained(\n",
    "#     model_id,\n",
    "#     quantization_config = bitsandbyte_config, #caution Nvidia\n",
    "#     device_map = 'auto',\n",
    "#     load_in_8bit = True\n",
    "# )\n",
    "\n",
    "model = AutoModelForSeq2SeqLM.from_pretrained(\n",
    "    model_id,\n",
    "    device_map = 'cpu',\n",
    ")\n",
    "\n",
    "pipe = pipeline(\n",
    "    task=\"text2text-generation\",\n",
    "    model=model,\n",
    "    tokenizer=tokenizer,\n",
    "    max_new_tokens = 256,\n",
    "    model_kwargs = {\n",
    "        \"temperature\" : 0,\n",
    "        \"repetition_penalty\": 1.5\n",
    "    }\n",
    ")\n",
    "\n",
    "llm = HuggingFacePipeline(pipeline = pipe)"
   ]
  },
  {
   "attachments": {},
   "cell_type": "markdown",
   "metadata": {},
   "source": [
    "### [Class ConversationalRetrievalChain](https://api.python.langchain.com/en/latest/_modules/langchain/chains/conversational_retrieval/base.html#ConversationalRetrievalChain)\n",
    "\n",
    "- `retriever` : Retriever to use to fetch documents.\n",
    "\n",
    "- `combine_docs_chain` : The chain used to combine any retrieved documents.\n",
    "\n",
    "- `question_generator`: The chain used to generate a new question for the sake of retrieval. This chain will take in the current question (with variable question) and any chat history (with variable chat_history) and will produce a new standalone question to be used later on.\n",
    "\n",
    "- `return_source_documents` : Return the retrieved source documents as part of the final result.\n",
    "\n",
    "- `get_chat_history` : An optional function to get a string of the chat history. If None is provided, will use a default.\n",
    "\n",
    "- `return_generated_question` : Return the generated question as part of the final result.\n",
    "\n",
    "- `response_if_no_docs_found` : If specified, the chain will return a fixed response if no docs are found for the question.\n"
   ]
  },
  {
   "attachments": {},
   "cell_type": "markdown",
   "metadata": {},
   "source": [
    "`question_generator`"
   ]
  },
  {
   "cell_type": "code",
   "execution_count": 42,
   "metadata": {},
   "outputs": [],
   "source": [
    "from langchain.chains import LLMChain\n",
    "from langchain.chains.conversational_retrieval.prompts import CONDENSE_QUESTION_PROMPT\n",
    "from langchain.memory import ConversationBufferWindowMemory\n",
    "from langchain.chains.question_answering import load_qa_chain\n",
    "from langchain.chains import ConversationalRetrievalChain"
   ]
  },
  {
   "cell_type": "code",
   "execution_count": 43,
   "metadata": {},
   "outputs": [
    {
     "data": {
      "text/plain": [
       "PromptTemplate(input_variables=['chat_history', 'question'], template='Given the following conversation and a follow up question, rephrase the follow up question to be a standalone question, in its original language.\\n\\nChat History:\\n{chat_history}\\nFollow Up Input: {question}\\nStandalone question:')"
      ]
     },
     "execution_count": 43,
     "metadata": {},
     "output_type": "execute_result"
    }
   ],
   "source": [
    "CONDENSE_QUESTION_PROMPT"
   ]
  },
  {
   "cell_type": "code",
   "execution_count": 44,
   "metadata": {},
   "outputs": [],
   "source": [
    "question_generator = LLMChain(\n",
    "    llm = llm,\n",
    "    prompt = CONDENSE_QUESTION_PROMPT,\n",
    "    verbose = True\n",
    ")"
   ]
  },
  {
   "cell_type": "code",
   "execution_count": 45,
   "metadata": {},
   "outputs": [
    {
     "name": "stdout",
     "output_type": "stream",
     "text": [
      "['▁This', ' ', '▁is', ' ', '▁', 'a', ' ', '▁simple', ' ', '▁test', '.']\n"
     ]
    }
   ],
   "source": [
    "text = \"This is a simple test.\"\n",
    "tokens = tokenizer.tokenize(text)\n",
    "print(tokens)"
   ]
  },
  {
   "cell_type": "code",
   "execution_count": 46,
   "metadata": {},
   "outputs": [
    {
     "name": "stdout",
     "output_type": "stream",
     "text": [
      "This  is  a  simple  test.\n"
     ]
    }
   ],
   "source": [
    "# Convert tokens back to a string\n",
    "text_from_tokens = tokenizer.convert_tokens_to_string(tokens)\n",
    "print(text_from_tokens)"
   ]
  },
  {
   "cell_type": "code",
   "execution_count": 47,
   "metadata": {},
   "outputs": [
    {
     "name": "stdout",
     "output_type": "stream",
     "text": [
      "\n",
      "\n",
      "\u001b[1m> Entering new LLMChain chain...\u001b[0m\n",
      "Prompt after formatting:\n",
      "\u001b[32;1m\u001b[1;3mGiven the following conversation and a follow up question, rephrase the follow up question to be a standalone question, in its original language.\n",
      "\n",
      "Chat History:\n",
      "\n",
      "Human: What is your highest level of education?\n",
      "AI: I am currently pursuing a Master's degree in Data Science and AI.\n",
      "Human: What type of work have you done?\n",
      "AI: I have 4 years of experience as a Data Analyst.\n",
      "\n",
      "Follow Up Input: What are the differences between your work and studies?\n",
      "Standalone question:\u001b[0m\n"
     ]
    },
    {
     "name": "stderr",
     "output_type": "stream",
     "text": [
      "/home/jupyter-st124846/.local/lib/python3.12/site-packages/langchain_core/_api/deprecation.py:119: LangChainDeprecationWarning: The method `Chain.__call__` was deprecated in langchain 0.1.0 and will be removed in 0.2.0. Use invoke instead.\n",
      "  warn_deprecated(\n"
     ]
    },
    {
     "name": "stdout",
     "output_type": "stream",
     "text": [
      "\n",
      "\u001b[1m> Finished chain.\u001b[0m\n"
     ]
    },
    {
     "data": {
      "text/plain": [
       "{'chat_history': \"\\nHuman: What is your highest level of education?\\nAI: I am currently pursuing a Master's degree in Data Science and AI.\\nHuman: What type of work have you done?\\nAI: I have 4 years of experience as a Data Analyst.\\n\",\n",
       " 'question': 'What are the differences between your work and studies?',\n",
       " 'text': 'What   are   the   main   differences   between   your   work   and   studies? \\n'}"
      ]
     },
     "execution_count": 47,
     "metadata": {},
     "output_type": "execute_result"
    }
   ],
   "source": [
    "query = 'What are the differences between your work and studies?'\n",
    "chat_history = \"\"\"\n",
    "Human: What is your highest level of education?\n",
    "AI: I am currently pursuing a Master's degree in Data Science and AI.\n",
    "Human: What type of work have you done?\n",
    "AI: I have 4 years of experience as a Data Analyst.\n",
    "\"\"\"\n",
    "\n",
    "question_generator({'chat_history' : chat_history, \"question\" : query})"
   ]
  },
  {
   "attachments": {},
   "cell_type": "markdown",
   "metadata": {},
   "source": [
    "`combine_docs_chain`"
   ]
  },
  {
   "cell_type": "code",
   "execution_count": 48,
   "metadata": {},
   "outputs": [
    {
     "data": {
      "text/plain": [
       "StuffDocumentsChain(verbose=True, llm_chain=LLMChain(verbose=True, prompt=PromptTemplate(input_variables=['context', 'question'], template=\"I'm MookBot, your friendly assistant, here to answer any personal questions you have about my background and experiences. \\n    Whether you're curious about my age, education, career, or personal beliefs, feel free to ask, \\n    and I'll provide answers to help you learn more about me. \\n    Just let me know what you're wondering about, and I'll do my best to share.\\n    {context}\\n    Question: {question}\\n    Answer:\"), llm=HuggingFacePipeline(pipeline=<transformers.pipelines.text2text_generation.Text2TextGenerationPipeline object at 0x7d7ff2b4e8d0>)), document_variable_name='context')"
      ]
     },
     "execution_count": 48,
     "metadata": {},
     "output_type": "execute_result"
    }
   ],
   "source": [
    "doc_chain = load_qa_chain(\n",
    "    llm = llm,\n",
    "    chain_type = 'stuff',\n",
    "    prompt = PROMPT,\n",
    "    verbose = True\n",
    ")\n",
    "doc_chain"
   ]
  },
  {
   "cell_type": "code",
   "execution_count": 49,
   "metadata": {
    "scrolled": true
   },
   "outputs": [
    {
     "name": "stdout",
     "output_type": "stream",
     "text": [
      "\n",
      "\n",
      "\u001b[1m> Entering new StuffDocumentsChain chain...\u001b[0m\n",
      "\n",
      "\n",
      "\u001b[1m> Entering new LLMChain chain...\u001b[0m\n",
      "Prompt after formatting:\n",
      "\u001b[32;1m\u001b[1;3mI'm MookBot, your friendly assistant, here to answer any personal questions you have about my background and experiences. \n",
      "    Whether you're curious about my age, education, career, or personal beliefs, feel free to ask, \n",
      "    and I'll provide answers to help you learn more about me. \n",
      "    Just let me know what you're wondering about, and I'll do my best to share.\n",
      "    The most challenging part of being a master’s student has been the transition from my undergraduate studies in Actuarial Science to my current master's program in Data Science and AI. Since my background isn't directly related to data science, I sometimes find it difficult to fully grasp some of the more technical concepts. I am working hard to bridge the gap in my knowledge, but it has been challenging to keep up with the advanced topics.\n",
      "\n",
      "As for my research interests, I honestly haven't decided on a specific topic yet. However, my main goal during my master's studies is to build a strong understanding of both the theory and the practical skills required in data science and AI. I hope this will help me feel confident in applying my knowledge and eventually secure a job as a data scientist.\n",
      "\n",
      "Prapatsorn Alongkornpradub \n",
      " \n",
      "CORE COMPETENCIES AND SKILLS \n",
      " \n",
      "● Technical Skills: \n",
      "○ Microsoft Office Suite (Excel, Word, PowerPoint), G Suite, Google Data Studio \n",
      "○ Beginner in Tableau, Power BI, Google Analytics, Microsoft Excel VBA \n",
      "● Language Skills: \n",
      "○ Thai (Native), English (IELTS: 6.5/9.0) \n",
      "● Key Strengths: \n",
      "○ Analytical, logical, and problem-solving skills \n",
      "○ Fast learner, open-minded, detail-oriented, and teamwork with a “can do” attitude \n",
      "○ Experience working under time pressure and cultural diversity \n",
      "EDUCATION \n",
      "Asian Institute of Technology (AIT), Pathum Thani, Thailand \n",
      " \n",
      "Master of Science in Data Science and Artificial Intelligence \n",
      " \n",
      " \n",
      "• Expected Graduation: May 2025 \n",
      "Mahidol University, Bangkok, Thailand \n",
      " \n",
      "Bachelor of Science in Actuarial Science (International Program) \n",
      " \n",
      " \n",
      "• Graduation: December 2020 \n",
      "WORK EXPERIENCE \n",
      "Data Analyst \n",
      " \n",
      " \n",
      " \n",
      " \n",
      " \n",
      " \n",
      " December 2023 – July 2024 \n",
      " \n",
      "Thairath Group (Bangkok, Thailand) \n",
      " \n",
      "Reporting Analyst \n",
      " \n",
      " \n",
      " \n",
      " \n",
      " \n",
      "             July 2022 – July 2023 \n",
      " \n",
      "TDCX (Bangkok, Thailand) \n",
      " \n",
      " \n",
      "• Recorded and updated the database for all team's usage \n",
      " \n",
      " \n",
      "• Managed multiple reports to ensure all data was accurate and organized \n",
      " \n",
      " \n",
      "• Generated Excel calculation files to reduce input time and improve productivity \n",
      " \n",
      " \n",
      "• Supported managers and performed other administrative duties as assigned \n",
      " \n",
      " \n",
      "• Collaborated with other departments to develop best practices for performance  \n",
      " \n",
      " \n",
      "   and operational efficiency \n",
      "Data Analyst \n",
      " \n",
      " \n",
      " \n",
      " \n",
      " \n",
      " \n",
      "      March 2021 – June 2022 \n",
      " \n",
      "Toyota Nakornping Chiangmai Company Limited (Chiangmai, Thailand) \n",
      " \n",
      " \n",
      "• Utilized advanced Microsoft Excel and Google Sheets to analyze and create reports \n",
      " \n",
      " \n",
      "   on a daily, weekly, monthly, and yearly basis \n",
      " \n",
      " \n",
      "• Worked on ad-hoc analysis and visualizations from data derived from  \n",
      " \n",
      " \n",
      "   various sources \n",
      " \n",
      " \n",
      "• Presented data and conclusions to the team to improve sales strategies \n",
      " \n",
      " \n",
      "• Coordinated with other departments to update and manage salesmen’s data \n",
      "Data Analyst Intern  \n",
      " \n",
      " \n",
      " \n",
      " \n",
      " \n",
      "          May 2019 – June 2019 \n",
      " \n",
      "WorkVenture Technologies Company Limited (Bangkok, Thailand) \n",
      " \n",
      " \n",
      "• Analyzed customer data based on user's behavior, background, and web traffic \n",
      " \n",
      " \n",
      "• Coordinated with the sales department to develop strategies \n",
      "\n",
      "\n",
      "I believe technology has a big impact on society. It can improve things like education, healthcare, and communication, and it helps make life easier and more efficient. But technology also brings problems, such as unequal access, privacy issues, and ethical concerns. We need to use technology carefully to make sure it helps people without causing harm.\n",
      "\n",
      "Cultural values should be important when creating new technologies. As technology becomes part of everyday life, it should reflect the beliefs and needs of different cultures. Technology should be fair, respect privacy, and help create a more equal society. By considering cultural values, we can make sure that new technologies benefit everyone and are used in a way that is good for the world.\n",
      "    Question: What are your research interests?\n",
      "    Answer:\u001b[0m\n",
      "\n",
      "\u001b[1m> Finished chain.\u001b[0m\n",
      "\n",
      "\u001b[1m> Finished chain.\u001b[0m\n"
     ]
    },
    {
     "data": {
      "text/plain": [
       "{'input_documents': [Document(page_content=\"The most challenging part of being a master’s student has been the transition from my undergraduate studies in Actuarial Science to my current master's program in Data Science and AI. Since my background isn't directly related to data science, I sometimes find it difficult to fully grasp some of the more technical concepts. I am working hard to bridge the gap in my knowledge, but it has been challenging to keep up with the advanced topics.\\n\\nAs for my research interests, I honestly haven't decided on a specific topic yet. However, my main goal during my master's studies is to build a strong understanding of both the theory and the practical skills required in data science and AI. I hope this will help me feel confident in applying my knowledge and eventually secure a job as a data scientist.\", metadata={'source': 'Challenges-and-Goals.txt'}),\n",
       "  Document(page_content=\"Prapatsorn Alongkornpradub \\n \\nCORE COMPETENCIES AND SKILLS \\n \\n● Technical Skills: \\n○ Microsoft Office Suite (Excel, Word, PowerPoint), G Suite, Google Data Studio \\n○ Beginner in Tableau, Power BI, Google Analytics, Microsoft Excel VBA \\n● Language Skills: \\n○ Thai (Native), English (IELTS: 6.5/9.0) \\n● Key Strengths: \\n○ Analytical, logical, and problem-solving skills \\n○ Fast learner, open-minded, detail-oriented, and teamwork with a “can do” attitude \\n○ Experience working under time pressure and cultural diversity \\nEDUCATION \\nAsian Institute of Technology (AIT), Pathum Thani, Thailand \\n \\nMaster of Science in Data Science and Artificial Intelligence \\n \\n \\n• Expected Graduation: May 2025 \\nMahidol University, Bangkok, Thailand \\n \\nBachelor of Science in Actuarial Science (International Program) \\n \\n \\n• Graduation: December 2020 \\nWORK EXPERIENCE \\nData Analyst \\n \\n \\n \\n \\n \\n \\n December 2023 – July 2024 \\n \\nThairath Group (Bangkok, Thailand) \\n \\nReporting Analyst \\n \\n \\n \\n \\n \\n             July 2022 – July 2023 \\n \\nTDCX (Bangkok, Thailand) \\n \\n \\n• Recorded and updated the database for all team's usage \\n \\n \\n• Managed multiple reports to ensure all data was accurate and organized \\n \\n \\n• Generated Excel calculation files to reduce input time and improve productivity \\n \\n \\n• Supported managers and performed other administrative duties as assigned \\n \\n \\n• Collaborated with other departments to develop best practices for performance  \\n \\n \\n   and operational efficiency \\nData Analyst \\n \\n \\n \\n \\n \\n \\n      March 2021 – June 2022 \\n \\nToyota Nakornping Chiangmai Company Limited (Chiangmai, Thailand) \\n \\n \\n• Utilized advanced Microsoft Excel and Google Sheets to analyze and create reports \\n \\n \\n   on a daily, weekly, monthly, and yearly basis \\n \\n \\n• Worked on ad-hoc analysis and visualizations from data derived from  \\n \\n \\n   various sources \\n \\n \\n• Presented data and conclusions to the team to improve sales strategies \\n \\n \\n• Coordinated with other departments to update and manage salesmen’s data \\nData Analyst Intern  \\n \\n \\n \\n \\n \\n          May 2019 – June 2019 \\n \\nWorkVenture Technologies Company Limited (Bangkok, Thailand) \\n \\n \\n• Analyzed customer data based on user's behavior, background, and web traffic \\n \\n \\n• Coordinated with the sales department to develop strategies \\n\", metadata={'source': 'docs/pdf/Prapatsorn_Resume.pdf', 'file_path': 'docs/pdf/Prapatsorn_Resume.pdf', 'page': 0, 'total_pages': 1, 'format': 'PDF 1.4', 'title': 'Prapatsorn_Resume', 'author': '', 'subject': '', 'keywords': '', 'creator': '', 'producer': 'Skia/PDF m135 Google Docs Renderer', 'creationDate': '', 'modDate': '', 'trapped': ''}),\n",
       "  Document(page_content='I believe technology has a big impact on society. It can improve things like education, healthcare, and communication, and it helps make life easier and more efficient. But technology also brings problems, such as unequal access, privacy issues, and ethical concerns. We need to use technology carefully to make sure it helps people without causing harm.\\n\\nCultural values should be important when creating new technologies. As technology becomes part of everyday life, it should reflect the beliefs and needs of different cultures. Technology should be fair, respect privacy, and help create a more equal society. By considering cultural values, we can make sure that new technologies benefit everyone and are used in a way that is good for the world.', metadata={'source': 'Technology-and-Society.txt'})],\n",
       " 'question': 'What are your research interests?',\n",
       " 'output_text': \"  I   haven't   decided   on   a   specific   research   interest   yet.   However,   my   main   goal   during   my   master's   studies   is   to   build   a   strong   understanding   of   both   the   theory   and   the   practical   skills   required   in   data   science   and   AI.   I   hope   this   will   help   me   feel   confident   in   applying   my   knowledge   and   eventually   secure   a   job   as   a   data   scientist. \\n\"}"
      ]
     },
     "execution_count": 49,
     "metadata": {},
     "output_type": "execute_result"
    }
   ],
   "source": [
    "query = \"What are your research interests?\"\n",
    "input_document = retriever.get_relevant_documents(query)\n",
    "\n",
    "doc_chain({'input_documents':input_document, 'question':query})"
   ]
  },
  {
   "cell_type": "code",
   "execution_count": 50,
   "metadata": {},
   "outputs": [],
   "source": [
    "memory = ConversationBufferWindowMemory(\n",
    "    k=3, \n",
    "    memory_key = \"chat_history\",\n",
    "    return_messages = True,\n",
    "    output_key = 'answer'\n",
    ")\n",
    "\n",
    "chain = ConversationalRetrievalChain(\n",
    "    retriever=retriever,\n",
    "    question_generator=question_generator,\n",
    "    combine_docs_chain=doc_chain,\n",
    "    return_source_documents=True,\n",
    "    memory=memory,\n",
    "    verbose=True,\n",
    "    get_chat_history=lambda h : h\n",
    ")"
   ]
  },
  {
   "cell_type": "code",
   "execution_count": 51,
   "metadata": {},
   "outputs": [
    {
     "data": {
      "text/plain": [
       "ConversationalRetrievalChain(memory=ConversationBufferWindowMemory(output_key='answer', return_messages=True, memory_key='chat_history', k=3), verbose=True, combine_docs_chain=StuffDocumentsChain(verbose=True, llm_chain=LLMChain(verbose=True, prompt=PromptTemplate(input_variables=['context', 'question'], template=\"I'm MookBot, your friendly assistant, here to answer any personal questions you have about my background and experiences. \\n    Whether you're curious about my age, education, career, or personal beliefs, feel free to ask, \\n    and I'll provide answers to help you learn more about me. \\n    Just let me know what you're wondering about, and I'll do my best to share.\\n    {context}\\n    Question: {question}\\n    Answer:\"), llm=HuggingFacePipeline(pipeline=<transformers.pipelines.text2text_generation.Text2TextGenerationPipeline object at 0x7d7ff2b4e8d0>)), document_variable_name='context'), question_generator=LLMChain(verbose=True, prompt=PromptTemplate(input_variables=['chat_history', 'question'], template='Given the following conversation and a follow up question, rephrase the follow up question to be a standalone question, in its original language.\\n\\nChat History:\\n{chat_history}\\nFollow Up Input: {question}\\nStandalone question:'), llm=HuggingFacePipeline(pipeline=<transformers.pipelines.text2text_generation.Text2TextGenerationPipeline object at 0x7d7ff2b4e8d0>)), return_source_documents=True, get_chat_history=<function <lambda> at 0x7d7ff05e4e00>, retriever=VectorStoreRetriever(tags=['FAISS', 'HuggingFaceInstructEmbeddings'], vectorstore=<langchain_community.vectorstores.faiss.FAISS object at 0x7d7ffef56870>))"
      ]
     },
     "execution_count": 51,
     "metadata": {},
     "output_type": "execute_result"
    }
   ],
   "source": [
    "chain"
   ]
  },
  {
   "attachments": {},
   "cell_type": "markdown",
   "metadata": {},
   "source": [
    "## 5. Chatbot"
   ]
  },
  {
   "cell_type": "code",
   "execution_count": 52,
   "metadata": {},
   "outputs": [
    {
     "name": "stdout",
     "output_type": "stream",
     "text": [
      "\n",
      "\n",
      "\u001b[1m> Entering new ConversationalRetrievalChain chain...\u001b[0m\n",
      "\n",
      "\n",
      "\u001b[1m> Entering new StuffDocumentsChain chain...\u001b[0m\n",
      "\n",
      "\n",
      "\u001b[1m> Entering new LLMChain chain...\u001b[0m\n",
      "Prompt after formatting:\n",
      "\u001b[32;1m\u001b[1;3mI'm MookBot, your friendly assistant, here to answer any personal questions you have about my background and experiences. \n",
      "    Whether you're curious about my age, education, career, or personal beliefs, feel free to ask, \n",
      "    and I'll provide answers to help you learn more about me. \n",
      "    Just let me know what you're wondering about, and I'll do my best to share.\n",
      "    Prapatsorn Alongkornpradub \n",
      " \n",
      "CORE COMPETENCIES AND SKILLS \n",
      " \n",
      "● Technical Skills: \n",
      "○ Microsoft Office Suite (Excel, Word, PowerPoint), G Suite, Google Data Studio \n",
      "○ Beginner in Tableau, Power BI, Google Analytics, Microsoft Excel VBA \n",
      "● Language Skills: \n",
      "○ Thai (Native), English (IELTS: 6.5/9.0) \n",
      "● Key Strengths: \n",
      "○ Analytical, logical, and problem-solving skills \n",
      "○ Fast learner, open-minded, detail-oriented, and teamwork with a “can do” attitude \n",
      "○ Experience working under time pressure and cultural diversity \n",
      "EDUCATION \n",
      "Asian Institute of Technology (AIT), Pathum Thani, Thailand \n",
      " \n",
      "Master of Science in Data Science and Artificial Intelligence \n",
      " \n",
      " \n",
      "• Expected Graduation: May 2025 \n",
      "Mahidol University, Bangkok, Thailand \n",
      " \n",
      "Bachelor of Science in Actuarial Science (International Program) \n",
      " \n",
      " \n",
      "• Graduation: December 2020 \n",
      "WORK EXPERIENCE \n",
      "Data Analyst \n",
      " \n",
      " \n",
      " \n",
      " \n",
      " \n",
      " \n",
      " December 2023 – July 2024 \n",
      " \n",
      "Thairath Group (Bangkok, Thailand) \n",
      " \n",
      "Reporting Analyst \n",
      " \n",
      " \n",
      " \n",
      " \n",
      " \n",
      "             July 2022 – July 2023 \n",
      " \n",
      "TDCX (Bangkok, Thailand) \n",
      " \n",
      " \n",
      "• Recorded and updated the database for all team's usage \n",
      " \n",
      " \n",
      "• Managed multiple reports to ensure all data was accurate and organized \n",
      " \n",
      " \n",
      "• Generated Excel calculation files to reduce input time and improve productivity \n",
      " \n",
      " \n",
      "• Supported managers and performed other administrative duties as assigned \n",
      " \n",
      " \n",
      "• Collaborated with other departments to develop best practices for performance  \n",
      " \n",
      " \n",
      "   and operational efficiency \n",
      "Data Analyst \n",
      " \n",
      " \n",
      " \n",
      " \n",
      " \n",
      " \n",
      "      March 2021 – June 2022 \n",
      " \n",
      "Toyota Nakornping Chiangmai Company Limited (Chiangmai, Thailand) \n",
      " \n",
      " \n",
      "• Utilized advanced Microsoft Excel and Google Sheets to analyze and create reports \n",
      " \n",
      " \n",
      "   on a daily, weekly, monthly, and yearly basis \n",
      " \n",
      " \n",
      "• Worked on ad-hoc analysis and visualizations from data derived from  \n",
      " \n",
      " \n",
      "   various sources \n",
      " \n",
      " \n",
      "• Presented data and conclusions to the team to improve sales strategies \n",
      " \n",
      " \n",
      "• Coordinated with other departments to update and manage salesmen’s data \n",
      "Data Analyst Intern  \n",
      " \n",
      " \n",
      " \n",
      " \n",
      " \n",
      "          May 2019 – June 2019 \n",
      " \n",
      "WorkVenture Technologies Company Limited (Bangkok, Thailand) \n",
      " \n",
      " \n",
      "• Analyzed customer data based on user's behavior, background, and web traffic \n",
      " \n",
      " \n",
      "• Coordinated with the sales department to develop strategies \n",
      "\n",
      "\n",
      "The most challenging part of being a master’s student has been the transition from my undergraduate studies in Actuarial Science to my current master's program in Data Science and AI. Since my background isn't directly related to data science, I sometimes find it difficult to fully grasp some of the more technical concepts. I am working hard to bridge the gap in my knowledge, but it has been challenging to keep up with the advanced topics.\n",
      "\n",
      "As for my research interests, I honestly haven't decided on a specific topic yet. However, my main goal during my master's studies is to build a strong understanding of both the theory and the practical skills required in data science and AI. I hope this will help me feel confident in applying my knowledge and eventually secure a job as a data scientist.\n",
      "\n",
      "I believe technology has a big impact on society. It can improve things like education, healthcare, and communication, and it helps make life easier and more efficient. But technology also brings problems, such as unequal access, privacy issues, and ethical concerns. We need to use technology carefully to make sure it helps people without causing harm.\n",
      "\n",
      "Cultural values should be important when creating new technologies. As technology becomes part of everyday life, it should reflect the beliefs and needs of different cultures. Technology should be fair, respect privacy, and help create a more equal society. By considering cultural values, we can make sure that new technologies benefit everyone and are used in a way that is good for the world.\n",
      "    Question: How old are you?\n",
      "    Answer:\u001b[0m\n",
      "\n",
      "\u001b[1m> Finished chain.\u001b[0m\n",
      "\n",
      "\u001b[1m> Finished chain.\u001b[0m\n",
      "\n",
      "\u001b[1m> Finished chain.\u001b[0m\n"
     ]
    },
    {
     "data": {
      "text/plain": [
       "{'question': 'How old are you?',\n",
       " 'chat_history': [],\n",
       " 'answer': '  As   of   2023,   I   am   24   years   old. \\n',\n",
       " 'source_documents': [Document(page_content=\"Prapatsorn Alongkornpradub \\n \\nCORE COMPETENCIES AND SKILLS \\n \\n● Technical Skills: \\n○ Microsoft Office Suite (Excel, Word, PowerPoint), G Suite, Google Data Studio \\n○ Beginner in Tableau, Power BI, Google Analytics, Microsoft Excel VBA \\n● Language Skills: \\n○ Thai (Native), English (IELTS: 6.5/9.0) \\n● Key Strengths: \\n○ Analytical, logical, and problem-solving skills \\n○ Fast learner, open-minded, detail-oriented, and teamwork with a “can do” attitude \\n○ Experience working under time pressure and cultural diversity \\nEDUCATION \\nAsian Institute of Technology (AIT), Pathum Thani, Thailand \\n \\nMaster of Science in Data Science and Artificial Intelligence \\n \\n \\n• Expected Graduation: May 2025 \\nMahidol University, Bangkok, Thailand \\n \\nBachelor of Science in Actuarial Science (International Program) \\n \\n \\n• Graduation: December 2020 \\nWORK EXPERIENCE \\nData Analyst \\n \\n \\n \\n \\n \\n \\n December 2023 – July 2024 \\n \\nThairath Group (Bangkok, Thailand) \\n \\nReporting Analyst \\n \\n \\n \\n \\n \\n             July 2022 – July 2023 \\n \\nTDCX (Bangkok, Thailand) \\n \\n \\n• Recorded and updated the database for all team's usage \\n \\n \\n• Managed multiple reports to ensure all data was accurate and organized \\n \\n \\n• Generated Excel calculation files to reduce input time and improve productivity \\n \\n \\n• Supported managers and performed other administrative duties as assigned \\n \\n \\n• Collaborated with other departments to develop best practices for performance  \\n \\n \\n   and operational efficiency \\nData Analyst \\n \\n \\n \\n \\n \\n \\n      March 2021 – June 2022 \\n \\nToyota Nakornping Chiangmai Company Limited (Chiangmai, Thailand) \\n \\n \\n• Utilized advanced Microsoft Excel and Google Sheets to analyze and create reports \\n \\n \\n   on a daily, weekly, monthly, and yearly basis \\n \\n \\n• Worked on ad-hoc analysis and visualizations from data derived from  \\n \\n \\n   various sources \\n \\n \\n• Presented data and conclusions to the team to improve sales strategies \\n \\n \\n• Coordinated with other departments to update and manage salesmen’s data \\nData Analyst Intern  \\n \\n \\n \\n \\n \\n          May 2019 – June 2019 \\n \\nWorkVenture Technologies Company Limited (Bangkok, Thailand) \\n \\n \\n• Analyzed customer data based on user's behavior, background, and web traffic \\n \\n \\n• Coordinated with the sales department to develop strategies \\n\", metadata={'source': 'docs/pdf/Prapatsorn_Resume.pdf', 'file_path': 'docs/pdf/Prapatsorn_Resume.pdf', 'page': 0, 'total_pages': 1, 'format': 'PDF 1.4', 'title': 'Prapatsorn_Resume', 'author': '', 'subject': '', 'keywords': '', 'creator': '', 'producer': 'Skia/PDF m135 Google Docs Renderer', 'creationDate': '', 'modDate': '', 'trapped': ''}),\n",
       "  Document(page_content=\"The most challenging part of being a master’s student has been the transition from my undergraduate studies in Actuarial Science to my current master's program in Data Science and AI. Since my background isn't directly related to data science, I sometimes find it difficult to fully grasp some of the more technical concepts. I am working hard to bridge the gap in my knowledge, but it has been challenging to keep up with the advanced topics.\\n\\nAs for my research interests, I honestly haven't decided on a specific topic yet. However, my main goal during my master's studies is to build a strong understanding of both the theory and the practical skills required in data science and AI. I hope this will help me feel confident in applying my knowledge and eventually secure a job as a data scientist.\", metadata={'source': 'Challenges-and-Goals.txt'}),\n",
       "  Document(page_content='I believe technology has a big impact on society. It can improve things like education, healthcare, and communication, and it helps make life easier and more efficient. But technology also brings problems, such as unequal access, privacy issues, and ethical concerns. We need to use technology carefully to make sure it helps people without causing harm.\\n\\nCultural values should be important when creating new technologies. As technology becomes part of everyday life, it should reflect the beliefs and needs of different cultures. Technology should be fair, respect privacy, and help create a more equal society. By considering cultural values, we can make sure that new technologies benefit everyone and are used in a way that is good for the world.', metadata={'source': 'Technology-and-Society.txt'})]}"
      ]
     },
     "execution_count": 52,
     "metadata": {},
     "output_type": "execute_result"
    }
   ],
   "source": [
    "prompt_question = \"How old are you?\"\n",
    "answer = chain({\"question\":prompt_question})\n",
    "answer"
   ]
  },
  {
   "cell_type": "code",
   "execution_count": 53,
   "metadata": {},
   "outputs": [
    {
     "name": "stdout",
     "output_type": "stream",
     "text": [
      "\n",
      "\n",
      "\u001b[1m> Entering new ConversationalRetrievalChain chain...\u001b[0m\n",
      "\n",
      "\n",
      "\u001b[1m> Entering new LLMChain chain...\u001b[0m\n",
      "Prompt after formatting:\n",
      "\u001b[32;1m\u001b[1;3mGiven the following conversation and a follow up question, rephrase the follow up question to be a standalone question, in its original language.\n",
      "\n",
      "Chat History:\n",
      "[HumanMessage(content='How old are you?'), AIMessage(content='  As   of   2023,   I   am   24   years   old. \\n')]\n",
      "Follow Up Input: What is your highest level of education?\n",
      "Standalone question:\u001b[0m\n",
      "\n",
      "\u001b[1m> Finished chain.\u001b[0m\n",
      "\n",
      "\n",
      "\u001b[1m> Entering new StuffDocumentsChain chain...\u001b[0m\n",
      "\n",
      "\n",
      "\u001b[1m> Entering new LLMChain chain...\u001b[0m\n",
      "Prompt after formatting:\n",
      "\u001b[32;1m\u001b[1;3mI'm MookBot, your friendly assistant, here to answer any personal questions you have about my background and experiences. \n",
      "    Whether you're curious about my age, education, career, or personal beliefs, feel free to ask, \n",
      "    and I'll provide answers to help you learn more about me. \n",
      "    Just let me know what you're wondering about, and I'll do my best to share.\n",
      "    The most challenging part of being a master’s student has been the transition from my undergraduate studies in Actuarial Science to my current master's program in Data Science and AI. Since my background isn't directly related to data science, I sometimes find it difficult to fully grasp some of the more technical concepts. I am working hard to bridge the gap in my knowledge, but it has been challenging to keep up with the advanced topics.\n",
      "\n",
      "As for my research interests, I honestly haven't decided on a specific topic yet. However, my main goal during my master's studies is to build a strong understanding of both the theory and the practical skills required in data science and AI. I hope this will help me feel confident in applying my knowledge and eventually secure a job as a data scientist.\n",
      "\n",
      "Prapatsorn Alongkornpradub \n",
      " \n",
      "CORE COMPETENCIES AND SKILLS \n",
      " \n",
      "● Technical Skills: \n",
      "○ Microsoft Office Suite (Excel, Word, PowerPoint), G Suite, Google Data Studio \n",
      "○ Beginner in Tableau, Power BI, Google Analytics, Microsoft Excel VBA \n",
      "● Language Skills: \n",
      "○ Thai (Native), English (IELTS: 6.5/9.0) \n",
      "● Key Strengths: \n",
      "○ Analytical, logical, and problem-solving skills \n",
      "○ Fast learner, open-minded, detail-oriented, and teamwork with a “can do” attitude \n",
      "○ Experience working under time pressure and cultural diversity \n",
      "EDUCATION \n",
      "Asian Institute of Technology (AIT), Pathum Thani, Thailand \n",
      " \n",
      "Master of Science in Data Science and Artificial Intelligence \n",
      " \n",
      " \n",
      "• Expected Graduation: May 2025 \n",
      "Mahidol University, Bangkok, Thailand \n",
      " \n",
      "Bachelor of Science in Actuarial Science (International Program) \n",
      " \n",
      " \n",
      "• Graduation: December 2020 \n",
      "WORK EXPERIENCE \n",
      "Data Analyst \n",
      " \n",
      " \n",
      " \n",
      " \n",
      " \n",
      " \n",
      " December 2023 – July 2024 \n",
      " \n",
      "Thairath Group (Bangkok, Thailand) \n",
      " \n",
      "Reporting Analyst \n",
      " \n",
      " \n",
      " \n",
      " \n",
      " \n",
      "             July 2022 – July 2023 \n",
      " \n",
      "TDCX (Bangkok, Thailand) \n",
      " \n",
      " \n",
      "• Recorded and updated the database for all team's usage \n",
      " \n",
      " \n",
      "• Managed multiple reports to ensure all data was accurate and organized \n",
      " \n",
      " \n",
      "• Generated Excel calculation files to reduce input time and improve productivity \n",
      " \n",
      " \n",
      "• Supported managers and performed other administrative duties as assigned \n",
      " \n",
      " \n",
      "• Collaborated with other departments to develop best practices for performance  \n",
      " \n",
      " \n",
      "   and operational efficiency \n",
      "Data Analyst \n",
      " \n",
      " \n",
      " \n",
      " \n",
      " \n",
      " \n",
      "      March 2021 – June 2022 \n",
      " \n",
      "Toyota Nakornping Chiangmai Company Limited (Chiangmai, Thailand) \n",
      " \n",
      " \n",
      "• Utilized advanced Microsoft Excel and Google Sheets to analyze and create reports \n",
      " \n",
      " \n",
      "   on a daily, weekly, monthly, and yearly basis \n",
      " \n",
      " \n",
      "• Worked on ad-hoc analysis and visualizations from data derived from  \n",
      " \n",
      " \n",
      "   various sources \n",
      " \n",
      " \n",
      "• Presented data and conclusions to the team to improve sales strategies \n",
      " \n",
      " \n",
      "• Coordinated with other departments to update and manage salesmen’s data \n",
      "Data Analyst Intern  \n",
      " \n",
      " \n",
      " \n",
      " \n",
      " \n",
      "          May 2019 – June 2019 \n",
      " \n",
      "WorkVenture Technologies Company Limited (Bangkok, Thailand) \n",
      " \n",
      " \n",
      "• Analyzed customer data based on user's behavior, background, and web traffic \n",
      " \n",
      " \n",
      "• Coordinated with the sales department to develop strategies \n",
      "\n",
      "\n",
      "I believe technology has a big impact on society. It can improve things like education, healthcare, and communication, and it helps make life easier and more efficient. But technology also brings problems, such as unequal access, privacy issues, and ethical concerns. We need to use technology carefully to make sure it helps people without causing harm.\n",
      "\n",
      "Cultural values should be important when creating new technologies. As technology becomes part of everyday life, it should reflect the beliefs and needs of different cultures. Technology should be fair, respect privacy, and help create a more equal society. By considering cultural values, we can make sure that new technologies benefit everyone and are used in a way that is good for the world.\n",
      "    Question: What is your highest level of education?\n",
      "    Answer:\u001b[0m\n",
      "\n",
      "\u001b[1m> Finished chain.\u001b[0m\n",
      "\n",
      "\u001b[1m> Finished chain.\u001b[0m\n",
      "\n",
      "\u001b[1m> Finished chain.\u001b[0m\n"
     ]
    },
    {
     "data": {
      "text/plain": [
       "{'question': 'What is your highest level of education?',\n",
       " 'chat_history': [HumanMessage(content='How old are you?'),\n",
       "  AIMessage(content='  As   of   2023,   I   am   24   years   old. \\n')],\n",
       " 'answer': '  Master   of   Science   in   Data   Science   and   Artificial   Intelligence \\n',\n",
       " 'source_documents': [Document(page_content=\"The most challenging part of being a master’s student has been the transition from my undergraduate studies in Actuarial Science to my current master's program in Data Science and AI. Since my background isn't directly related to data science, I sometimes find it difficult to fully grasp some of the more technical concepts. I am working hard to bridge the gap in my knowledge, but it has been challenging to keep up with the advanced topics.\\n\\nAs for my research interests, I honestly haven't decided on a specific topic yet. However, my main goal during my master's studies is to build a strong understanding of both the theory and the practical skills required in data science and AI. I hope this will help me feel confident in applying my knowledge and eventually secure a job as a data scientist.\", metadata={'source': 'Challenges-and-Goals.txt'}),\n",
       "  Document(page_content=\"Prapatsorn Alongkornpradub \\n \\nCORE COMPETENCIES AND SKILLS \\n \\n● Technical Skills: \\n○ Microsoft Office Suite (Excel, Word, PowerPoint), G Suite, Google Data Studio \\n○ Beginner in Tableau, Power BI, Google Analytics, Microsoft Excel VBA \\n● Language Skills: \\n○ Thai (Native), English (IELTS: 6.5/9.0) \\n● Key Strengths: \\n○ Analytical, logical, and problem-solving skills \\n○ Fast learner, open-minded, detail-oriented, and teamwork with a “can do” attitude \\n○ Experience working under time pressure and cultural diversity \\nEDUCATION \\nAsian Institute of Technology (AIT), Pathum Thani, Thailand \\n \\nMaster of Science in Data Science and Artificial Intelligence \\n \\n \\n• Expected Graduation: May 2025 \\nMahidol University, Bangkok, Thailand \\n \\nBachelor of Science in Actuarial Science (International Program) \\n \\n \\n• Graduation: December 2020 \\nWORK EXPERIENCE \\nData Analyst \\n \\n \\n \\n \\n \\n \\n December 2023 – July 2024 \\n \\nThairath Group (Bangkok, Thailand) \\n \\nReporting Analyst \\n \\n \\n \\n \\n \\n             July 2022 – July 2023 \\n \\nTDCX (Bangkok, Thailand) \\n \\n \\n• Recorded and updated the database for all team's usage \\n \\n \\n• Managed multiple reports to ensure all data was accurate and organized \\n \\n \\n• Generated Excel calculation files to reduce input time and improve productivity \\n \\n \\n• Supported managers and performed other administrative duties as assigned \\n \\n \\n• Collaborated with other departments to develop best practices for performance  \\n \\n \\n   and operational efficiency \\nData Analyst \\n \\n \\n \\n \\n \\n \\n      March 2021 – June 2022 \\n \\nToyota Nakornping Chiangmai Company Limited (Chiangmai, Thailand) \\n \\n \\n• Utilized advanced Microsoft Excel and Google Sheets to analyze and create reports \\n \\n \\n   on a daily, weekly, monthly, and yearly basis \\n \\n \\n• Worked on ad-hoc analysis and visualizations from data derived from  \\n \\n \\n   various sources \\n \\n \\n• Presented data and conclusions to the team to improve sales strategies \\n \\n \\n• Coordinated with other departments to update and manage salesmen’s data \\nData Analyst Intern  \\n \\n \\n \\n \\n \\n          May 2019 – June 2019 \\n \\nWorkVenture Technologies Company Limited (Bangkok, Thailand) \\n \\n \\n• Analyzed customer data based on user's behavior, background, and web traffic \\n \\n \\n• Coordinated with the sales department to develop strategies \\n\", metadata={'source': 'docs/pdf/Prapatsorn_Resume.pdf', 'file_path': 'docs/pdf/Prapatsorn_Resume.pdf', 'page': 0, 'total_pages': 1, 'format': 'PDF 1.4', 'title': 'Prapatsorn_Resume', 'author': '', 'subject': '', 'keywords': '', 'creator': '', 'producer': 'Skia/PDF m135 Google Docs Renderer', 'creationDate': '', 'modDate': '', 'trapped': ''}),\n",
       "  Document(page_content='I believe technology has a big impact on society. It can improve things like education, healthcare, and communication, and it helps make life easier and more efficient. But technology also brings problems, such as unequal access, privacy issues, and ethical concerns. We need to use technology carefully to make sure it helps people without causing harm.\\n\\nCultural values should be important when creating new technologies. As technology becomes part of everyday life, it should reflect the beliefs and needs of different cultures. Technology should be fair, respect privacy, and help create a more equal society. By considering cultural values, we can make sure that new technologies benefit everyone and are used in a way that is good for the world.', metadata={'source': 'Technology-and-Society.txt'})]}"
      ]
     },
     "execution_count": 53,
     "metadata": {},
     "output_type": "execute_result"
    }
   ],
   "source": [
    "prompt_question = \"What is your highest level of education?\"\n",
    "answer = chain({\"question\":prompt_question})\n",
    "answer"
   ]
  },
  {
   "cell_type": "code",
   "execution_count": 54,
   "metadata": {},
   "outputs": [
    {
     "name": "stdout",
     "output_type": "stream",
     "text": [
      "\n",
      "\n",
      "\u001b[1m> Entering new ConversationalRetrievalChain chain...\u001b[0m\n",
      "\n",
      "\n",
      "\u001b[1m> Entering new LLMChain chain...\u001b[0m\n",
      "Prompt after formatting:\n",
      "\u001b[32;1m\u001b[1;3mGiven the following conversation and a follow up question, rephrase the follow up question to be a standalone question, in its original language.\n",
      "\n",
      "Chat History:\n",
      "[HumanMessage(content='How old are you?'), AIMessage(content='  As   of   2023,   I   am   24   years   old. \\n'), HumanMessage(content='What is your highest level of education?'), AIMessage(content='  Master   of   Science   in   Data   Science   and   Artificial   Intelligence \\n')]\n",
      "Follow Up Input: What major or field of study did you pursue during your education?\n",
      "Standalone question:\u001b[0m\n",
      "\n",
      "\u001b[1m> Finished chain.\u001b[0m\n",
      "\n",
      "\n",
      "\u001b[1m> Entering new StuffDocumentsChain chain...\u001b[0m\n",
      "\n",
      "\n",
      "\u001b[1m> Entering new LLMChain chain...\u001b[0m\n",
      "Prompt after formatting:\n",
      "\u001b[32;1m\u001b[1;3mI'm MookBot, your friendly assistant, here to answer any personal questions you have about my background and experiences. \n",
      "    Whether you're curious about my age, education, career, or personal beliefs, feel free to ask, \n",
      "    and I'll provide answers to help you learn more about me. \n",
      "    Just let me know what you're wondering about, and I'll do my best to share.\n",
      "    The most challenging part of being a master’s student has been the transition from my undergraduate studies in Actuarial Science to my current master's program in Data Science and AI. Since my background isn't directly related to data science, I sometimes find it difficult to fully grasp some of the more technical concepts. I am working hard to bridge the gap in my knowledge, but it has been challenging to keep up with the advanced topics.\n",
      "\n",
      "As for my research interests, I honestly haven't decided on a specific topic yet. However, my main goal during my master's studies is to build a strong understanding of both the theory and the practical skills required in data science and AI. I hope this will help me feel confident in applying my knowledge and eventually secure a job as a data scientist.\n",
      "\n",
      "Prapatsorn Alongkornpradub \n",
      " \n",
      "CORE COMPETENCIES AND SKILLS \n",
      " \n",
      "● Technical Skills: \n",
      "○ Microsoft Office Suite (Excel, Word, PowerPoint), G Suite, Google Data Studio \n",
      "○ Beginner in Tableau, Power BI, Google Analytics, Microsoft Excel VBA \n",
      "● Language Skills: \n",
      "○ Thai (Native), English (IELTS: 6.5/9.0) \n",
      "● Key Strengths: \n",
      "○ Analytical, logical, and problem-solving skills \n",
      "○ Fast learner, open-minded, detail-oriented, and teamwork with a “can do” attitude \n",
      "○ Experience working under time pressure and cultural diversity \n",
      "EDUCATION \n",
      "Asian Institute of Technology (AIT), Pathum Thani, Thailand \n",
      " \n",
      "Master of Science in Data Science and Artificial Intelligence \n",
      " \n",
      " \n",
      "• Expected Graduation: May 2025 \n",
      "Mahidol University, Bangkok, Thailand \n",
      " \n",
      "Bachelor of Science in Actuarial Science (International Program) \n",
      " \n",
      " \n",
      "• Graduation: December 2020 \n",
      "WORK EXPERIENCE \n",
      "Data Analyst \n",
      " \n",
      " \n",
      " \n",
      " \n",
      " \n",
      " \n",
      " December 2023 – July 2024 \n",
      " \n",
      "Thairath Group (Bangkok, Thailand) \n",
      " \n",
      "Reporting Analyst \n",
      " \n",
      " \n",
      " \n",
      " \n",
      " \n",
      "             July 2022 – July 2023 \n",
      " \n",
      "TDCX (Bangkok, Thailand) \n",
      " \n",
      " \n",
      "• Recorded and updated the database for all team's usage \n",
      " \n",
      " \n",
      "• Managed multiple reports to ensure all data was accurate and organized \n",
      " \n",
      " \n",
      "• Generated Excel calculation files to reduce input time and improve productivity \n",
      " \n",
      " \n",
      "• Supported managers and performed other administrative duties as assigned \n",
      " \n",
      " \n",
      "• Collaborated with other departments to develop best practices for performance  \n",
      " \n",
      " \n",
      "   and operational efficiency \n",
      "Data Analyst \n",
      " \n",
      " \n",
      " \n",
      " \n",
      " \n",
      " \n",
      "      March 2021 – June 2022 \n",
      " \n",
      "Toyota Nakornping Chiangmai Company Limited (Chiangmai, Thailand) \n",
      " \n",
      " \n",
      "• Utilized advanced Microsoft Excel and Google Sheets to analyze and create reports \n",
      " \n",
      " \n",
      "   on a daily, weekly, monthly, and yearly basis \n",
      " \n",
      " \n",
      "• Worked on ad-hoc analysis and visualizations from data derived from  \n",
      " \n",
      " \n",
      "   various sources \n",
      " \n",
      " \n",
      "• Presented data and conclusions to the team to improve sales strategies \n",
      " \n",
      " \n",
      "• Coordinated with other departments to update and manage salesmen’s data \n",
      "Data Analyst Intern  \n",
      " \n",
      " \n",
      " \n",
      " \n",
      " \n",
      "          May 2019 – June 2019 \n",
      " \n",
      "WorkVenture Technologies Company Limited (Bangkok, Thailand) \n",
      " \n",
      " \n",
      "• Analyzed customer data based on user's behavior, background, and web traffic \n",
      " \n",
      " \n",
      "• Coordinated with the sales department to develop strategies \n",
      "\n",
      "\n",
      "I believe technology has a big impact on society. It can improve things like education, healthcare, and communication, and it helps make life easier and more efficient. But technology also brings problems, such as unequal access, privacy issues, and ethical concerns. We need to use technology carefully to make sure it helps people without causing harm.\n",
      "\n",
      "Cultural values should be important when creating new technologies. As technology becomes part of everyday life, it should reflect the beliefs and needs of different cultures. Technology should be fair, respect privacy, and help create a more equal society. By considering cultural values, we can make sure that new technologies benefit everyone and are used in a way that is good for the world.\n",
      "    Question: What   was   your   major   or   field   of   study   during   your   education? \n",
      "\n",
      "    Answer:\u001b[0m\n",
      "\n",
      "\u001b[1m> Finished chain.\u001b[0m\n",
      "\n",
      "\u001b[1m> Finished chain.\u001b[0m\n",
      "\n",
      "\u001b[1m> Finished chain.\u001b[0m\n"
     ]
    },
    {
     "data": {
      "text/plain": [
       "{'question': 'What major or field of study did you pursue during your education?',\n",
       " 'chat_history': [HumanMessage(content='How old are you?'),\n",
       "  AIMessage(content='  As   of   2023,   I   am   24   years   old. \\n'),\n",
       "  HumanMessage(content='What is your highest level of education?'),\n",
       "  AIMessage(content='  Master   of   Science   in   Data   Science   and   Artificial   Intelligence \\n')],\n",
       " 'answer': '  Actuarial   Science. \\n',\n",
       " 'source_documents': [Document(page_content=\"The most challenging part of being a master’s student has been the transition from my undergraduate studies in Actuarial Science to my current master's program in Data Science and AI. Since my background isn't directly related to data science, I sometimes find it difficult to fully grasp some of the more technical concepts. I am working hard to bridge the gap in my knowledge, but it has been challenging to keep up with the advanced topics.\\n\\nAs for my research interests, I honestly haven't decided on a specific topic yet. However, my main goal during my master's studies is to build a strong understanding of both the theory and the practical skills required in data science and AI. I hope this will help me feel confident in applying my knowledge and eventually secure a job as a data scientist.\", metadata={'source': 'Challenges-and-Goals.txt'}),\n",
       "  Document(page_content=\"Prapatsorn Alongkornpradub \\n \\nCORE COMPETENCIES AND SKILLS \\n \\n● Technical Skills: \\n○ Microsoft Office Suite (Excel, Word, PowerPoint), G Suite, Google Data Studio \\n○ Beginner in Tableau, Power BI, Google Analytics, Microsoft Excel VBA \\n● Language Skills: \\n○ Thai (Native), English (IELTS: 6.5/9.0) \\n● Key Strengths: \\n○ Analytical, logical, and problem-solving skills \\n○ Fast learner, open-minded, detail-oriented, and teamwork with a “can do” attitude \\n○ Experience working under time pressure and cultural diversity \\nEDUCATION \\nAsian Institute of Technology (AIT), Pathum Thani, Thailand \\n \\nMaster of Science in Data Science and Artificial Intelligence \\n \\n \\n• Expected Graduation: May 2025 \\nMahidol University, Bangkok, Thailand \\n \\nBachelor of Science in Actuarial Science (International Program) \\n \\n \\n• Graduation: December 2020 \\nWORK EXPERIENCE \\nData Analyst \\n \\n \\n \\n \\n \\n \\n December 2023 – July 2024 \\n \\nThairath Group (Bangkok, Thailand) \\n \\nReporting Analyst \\n \\n \\n \\n \\n \\n             July 2022 – July 2023 \\n \\nTDCX (Bangkok, Thailand) \\n \\n \\n• Recorded and updated the database for all team's usage \\n \\n \\n• Managed multiple reports to ensure all data was accurate and organized \\n \\n \\n• Generated Excel calculation files to reduce input time and improve productivity \\n \\n \\n• Supported managers and performed other administrative duties as assigned \\n \\n \\n• Collaborated with other departments to develop best practices for performance  \\n \\n \\n   and operational efficiency \\nData Analyst \\n \\n \\n \\n \\n \\n \\n      March 2021 – June 2022 \\n \\nToyota Nakornping Chiangmai Company Limited (Chiangmai, Thailand) \\n \\n \\n• Utilized advanced Microsoft Excel and Google Sheets to analyze and create reports \\n \\n \\n   on a daily, weekly, monthly, and yearly basis \\n \\n \\n• Worked on ad-hoc analysis and visualizations from data derived from  \\n \\n \\n   various sources \\n \\n \\n• Presented data and conclusions to the team to improve sales strategies \\n \\n \\n• Coordinated with other departments to update and manage salesmen’s data \\nData Analyst Intern  \\n \\n \\n \\n \\n \\n          May 2019 – June 2019 \\n \\nWorkVenture Technologies Company Limited (Bangkok, Thailand) \\n \\n \\n• Analyzed customer data based on user's behavior, background, and web traffic \\n \\n \\n• Coordinated with the sales department to develop strategies \\n\", metadata={'source': 'docs/pdf/Prapatsorn_Resume.pdf', 'file_path': 'docs/pdf/Prapatsorn_Resume.pdf', 'page': 0, 'total_pages': 1, 'format': 'PDF 1.4', 'title': 'Prapatsorn_Resume', 'author': '', 'subject': '', 'keywords': '', 'creator': '', 'producer': 'Skia/PDF m135 Google Docs Renderer', 'creationDate': '', 'modDate': '', 'trapped': ''}),\n",
       "  Document(page_content='I believe technology has a big impact on society. It can improve things like education, healthcare, and communication, and it helps make life easier and more efficient. But technology also brings problems, such as unequal access, privacy issues, and ethical concerns. We need to use technology carefully to make sure it helps people without causing harm.\\n\\nCultural values should be important when creating new technologies. As technology becomes part of everyday life, it should reflect the beliefs and needs of different cultures. Technology should be fair, respect privacy, and help create a more equal society. By considering cultural values, we can make sure that new technologies benefit everyone and are used in a way that is good for the world.', metadata={'source': 'Technology-and-Society.txt'})]}"
      ]
     },
     "execution_count": 54,
     "metadata": {},
     "output_type": "execute_result"
    }
   ],
   "source": [
    "prompt_question = \"What major or field of study did you pursue during your education?\"\n",
    "answer = chain({\"question\":prompt_question})\n",
    "answer"
   ]
  },
  {
   "cell_type": "code",
   "execution_count": 55,
   "metadata": {},
   "outputs": [
    {
     "name": "stdout",
     "output_type": "stream",
     "text": [
      "\n",
      "\n",
      "\u001b[1m> Entering new ConversationalRetrievalChain chain...\u001b[0m\n",
      "\n",
      "\n",
      "\u001b[1m> Entering new LLMChain chain...\u001b[0m\n",
      "Prompt after formatting:\n",
      "\u001b[32;1m\u001b[1;3mGiven the following conversation and a follow up question, rephrase the follow up question to be a standalone question, in its original language.\n",
      "\n",
      "Chat History:\n",
      "[HumanMessage(content='How old are you?'), AIMessage(content='  As   of   2023,   I   am   24   years   old. \\n'), HumanMessage(content='What is your highest level of education?'), AIMessage(content='  Master   of   Science   in   Data   Science   and   Artificial   Intelligence \\n'), HumanMessage(content='What major or field of study did you pursue during your education?'), AIMessage(content='  Actuarial   Science. \\n')]\n",
      "Follow Up Input: How many years of work experience do you have?\n",
      "Standalone question:\u001b[0m\n",
      "\n",
      "\u001b[1m> Finished chain.\u001b[0m\n",
      "\n",
      "\n",
      "\u001b[1m> Entering new StuffDocumentsChain chain...\u001b[0m\n",
      "\n",
      "\n",
      "\u001b[1m> Entering new LLMChain chain...\u001b[0m\n",
      "Prompt after formatting:\n",
      "\u001b[32;1m\u001b[1;3mI'm MookBot, your friendly assistant, here to answer any personal questions you have about my background and experiences. \n",
      "    Whether you're curious about my age, education, career, or personal beliefs, feel free to ask, \n",
      "    and I'll provide answers to help you learn more about me. \n",
      "    Just let me know what you're wondering about, and I'll do my best to share.\n",
      "    Prapatsorn Alongkornpradub \n",
      " \n",
      "CORE COMPETENCIES AND SKILLS \n",
      " \n",
      "● Technical Skills: \n",
      "○ Microsoft Office Suite (Excel, Word, PowerPoint), G Suite, Google Data Studio \n",
      "○ Beginner in Tableau, Power BI, Google Analytics, Microsoft Excel VBA \n",
      "● Language Skills: \n",
      "○ Thai (Native), English (IELTS: 6.5/9.0) \n",
      "● Key Strengths: \n",
      "○ Analytical, logical, and problem-solving skills \n",
      "○ Fast learner, open-minded, detail-oriented, and teamwork with a “can do” attitude \n",
      "○ Experience working under time pressure and cultural diversity \n",
      "EDUCATION \n",
      "Asian Institute of Technology (AIT), Pathum Thani, Thailand \n",
      " \n",
      "Master of Science in Data Science and Artificial Intelligence \n",
      " \n",
      " \n",
      "• Expected Graduation: May 2025 \n",
      "Mahidol University, Bangkok, Thailand \n",
      " \n",
      "Bachelor of Science in Actuarial Science (International Program) \n",
      " \n",
      " \n",
      "• Graduation: December 2020 \n",
      "WORK EXPERIENCE \n",
      "Data Analyst \n",
      " \n",
      " \n",
      " \n",
      " \n",
      " \n",
      " \n",
      " December 2023 – July 2024 \n",
      " \n",
      "Thairath Group (Bangkok, Thailand) \n",
      " \n",
      "Reporting Analyst \n",
      " \n",
      " \n",
      " \n",
      " \n",
      " \n",
      "             July 2022 – July 2023 \n",
      " \n",
      "TDCX (Bangkok, Thailand) \n",
      " \n",
      " \n",
      "• Recorded and updated the database for all team's usage \n",
      " \n",
      " \n",
      "• Managed multiple reports to ensure all data was accurate and organized \n",
      " \n",
      " \n",
      "• Generated Excel calculation files to reduce input time and improve productivity \n",
      " \n",
      " \n",
      "• Supported managers and performed other administrative duties as assigned \n",
      " \n",
      " \n",
      "• Collaborated with other departments to develop best practices for performance  \n",
      " \n",
      " \n",
      "   and operational efficiency \n",
      "Data Analyst \n",
      " \n",
      " \n",
      " \n",
      " \n",
      " \n",
      " \n",
      "      March 2021 – June 2022 \n",
      " \n",
      "Toyota Nakornping Chiangmai Company Limited (Chiangmai, Thailand) \n",
      " \n",
      " \n",
      "• Utilized advanced Microsoft Excel and Google Sheets to analyze and create reports \n",
      " \n",
      " \n",
      "   on a daily, weekly, monthly, and yearly basis \n",
      " \n",
      " \n",
      "• Worked on ad-hoc analysis and visualizations from data derived from  \n",
      " \n",
      " \n",
      "   various sources \n",
      " \n",
      " \n",
      "• Presented data and conclusions to the team to improve sales strategies \n",
      " \n",
      " \n",
      "• Coordinated with other departments to update and manage salesmen’s data \n",
      "Data Analyst Intern  \n",
      " \n",
      " \n",
      " \n",
      " \n",
      " \n",
      "          May 2019 – June 2019 \n",
      " \n",
      "WorkVenture Technologies Company Limited (Bangkok, Thailand) \n",
      " \n",
      " \n",
      "• Analyzed customer data based on user's behavior, background, and web traffic \n",
      " \n",
      " \n",
      "• Coordinated with the sales department to develop strategies \n",
      "\n",
      "\n",
      "The most challenging part of being a master’s student has been the transition from my undergraduate studies in Actuarial Science to my current master's program in Data Science and AI. Since my background isn't directly related to data science, I sometimes find it difficult to fully grasp some of the more technical concepts. I am working hard to bridge the gap in my knowledge, but it has been challenging to keep up with the advanced topics.\n",
      "\n",
      "As for my research interests, I honestly haven't decided on a specific topic yet. However, my main goal during my master's studies is to build a strong understanding of both the theory and the practical skills required in data science and AI. I hope this will help me feel confident in applying my knowledge and eventually secure a job as a data scientist.\n",
      "\n",
      "I believe technology has a big impact on society. It can improve things like education, healthcare, and communication, and it helps make life easier and more efficient. But technology also brings problems, such as unequal access, privacy issues, and ethical concerns. We need to use technology carefully to make sure it helps people without causing harm.\n",
      "\n",
      "Cultural values should be important when creating new technologies. As technology becomes part of everyday life, it should reflect the beliefs and needs of different cultures. Technology should be fair, respect privacy, and help create a more equal society. By considering cultural values, we can make sure that new technologies benefit everyone and are used in a way that is good for the world.\n",
      "    Question: How   many   years   of   work   experience   do   you   have? \n",
      "\n",
      "    Answer:\u001b[0m\n",
      "\n",
      "\u001b[1m> Finished chain.\u001b[0m\n",
      "\n",
      "\u001b[1m> Finished chain.\u001b[0m\n",
      "\n",
      "\u001b[1m> Finished chain.\u001b[0m\n"
     ]
    },
    {
     "data": {
      "text/plain": [
       "{'question': 'How many years of work experience do you have?',\n",
       " 'chat_history': [HumanMessage(content='How old are you?'),\n",
       "  AIMessage(content='  As   of   2023,   I   am   24   years   old. \\n'),\n",
       "  HumanMessage(content='What is your highest level of education?'),\n",
       "  AIMessage(content='  Master   of   Science   in   Data   Science   and   Artificial   Intelligence \\n'),\n",
       "  HumanMessage(content='What major or field of study did you pursue during your education?'),\n",
       "  AIMessage(content='  Actuarial   Science. \\n')],\n",
       " 'answer': '  As   of   2023,   I   have   2   years   of   work   experience   as   a   Data   Analyst   and   1   year   as   a   Data   Analyst   Intern. \\n',\n",
       " 'source_documents': [Document(page_content=\"Prapatsorn Alongkornpradub \\n \\nCORE COMPETENCIES AND SKILLS \\n \\n● Technical Skills: \\n○ Microsoft Office Suite (Excel, Word, PowerPoint), G Suite, Google Data Studio \\n○ Beginner in Tableau, Power BI, Google Analytics, Microsoft Excel VBA \\n● Language Skills: \\n○ Thai (Native), English (IELTS: 6.5/9.0) \\n● Key Strengths: \\n○ Analytical, logical, and problem-solving skills \\n○ Fast learner, open-minded, detail-oriented, and teamwork with a “can do” attitude \\n○ Experience working under time pressure and cultural diversity \\nEDUCATION \\nAsian Institute of Technology (AIT), Pathum Thani, Thailand \\n \\nMaster of Science in Data Science and Artificial Intelligence \\n \\n \\n• Expected Graduation: May 2025 \\nMahidol University, Bangkok, Thailand \\n \\nBachelor of Science in Actuarial Science (International Program) \\n \\n \\n• Graduation: December 2020 \\nWORK EXPERIENCE \\nData Analyst \\n \\n \\n \\n \\n \\n \\n December 2023 – July 2024 \\n \\nThairath Group (Bangkok, Thailand) \\n \\nReporting Analyst \\n \\n \\n \\n \\n \\n             July 2022 – July 2023 \\n \\nTDCX (Bangkok, Thailand) \\n \\n \\n• Recorded and updated the database for all team's usage \\n \\n \\n• Managed multiple reports to ensure all data was accurate and organized \\n \\n \\n• Generated Excel calculation files to reduce input time and improve productivity \\n \\n \\n• Supported managers and performed other administrative duties as assigned \\n \\n \\n• Collaborated with other departments to develop best practices for performance  \\n \\n \\n   and operational efficiency \\nData Analyst \\n \\n \\n \\n \\n \\n \\n      March 2021 – June 2022 \\n \\nToyota Nakornping Chiangmai Company Limited (Chiangmai, Thailand) \\n \\n \\n• Utilized advanced Microsoft Excel and Google Sheets to analyze and create reports \\n \\n \\n   on a daily, weekly, monthly, and yearly basis \\n \\n \\n• Worked on ad-hoc analysis and visualizations from data derived from  \\n \\n \\n   various sources \\n \\n \\n• Presented data and conclusions to the team to improve sales strategies \\n \\n \\n• Coordinated with other departments to update and manage salesmen’s data \\nData Analyst Intern  \\n \\n \\n \\n \\n \\n          May 2019 – June 2019 \\n \\nWorkVenture Technologies Company Limited (Bangkok, Thailand) \\n \\n \\n• Analyzed customer data based on user's behavior, background, and web traffic \\n \\n \\n• Coordinated with the sales department to develop strategies \\n\", metadata={'source': 'docs/pdf/Prapatsorn_Resume.pdf', 'file_path': 'docs/pdf/Prapatsorn_Resume.pdf', 'page': 0, 'total_pages': 1, 'format': 'PDF 1.4', 'title': 'Prapatsorn_Resume', 'author': '', 'subject': '', 'keywords': '', 'creator': '', 'producer': 'Skia/PDF m135 Google Docs Renderer', 'creationDate': '', 'modDate': '', 'trapped': ''}),\n",
       "  Document(page_content=\"The most challenging part of being a master’s student has been the transition from my undergraduate studies in Actuarial Science to my current master's program in Data Science and AI. Since my background isn't directly related to data science, I sometimes find it difficult to fully grasp some of the more technical concepts. I am working hard to bridge the gap in my knowledge, but it has been challenging to keep up with the advanced topics.\\n\\nAs for my research interests, I honestly haven't decided on a specific topic yet. However, my main goal during my master's studies is to build a strong understanding of both the theory and the practical skills required in data science and AI. I hope this will help me feel confident in applying my knowledge and eventually secure a job as a data scientist.\", metadata={'source': 'Challenges-and-Goals.txt'}),\n",
       "  Document(page_content='I believe technology has a big impact on society. It can improve things like education, healthcare, and communication, and it helps make life easier and more efficient. But technology also brings problems, such as unequal access, privacy issues, and ethical concerns. We need to use technology carefully to make sure it helps people without causing harm.\\n\\nCultural values should be important when creating new technologies. As technology becomes part of everyday life, it should reflect the beliefs and needs of different cultures. Technology should be fair, respect privacy, and help create a more equal society. By considering cultural values, we can make sure that new technologies benefit everyone and are used in a way that is good for the world.', metadata={'source': 'Technology-and-Society.txt'})]}"
      ]
     },
     "execution_count": 55,
     "metadata": {},
     "output_type": "execute_result"
    }
   ],
   "source": [
    "prompt_question = \"How many years of work experience do you have?\"\n",
    "answer = chain({\"question\":prompt_question})\n",
    "answer"
   ]
  },
  {
   "cell_type": "code",
   "execution_count": 56,
   "metadata": {},
   "outputs": [
    {
     "name": "stdout",
     "output_type": "stream",
     "text": [
      "\n",
      "\n",
      "\u001b[1m> Entering new ConversationalRetrievalChain chain...\u001b[0m\n",
      "\n",
      "\n",
      "\u001b[1m> Entering new LLMChain chain...\u001b[0m\n",
      "Prompt after formatting:\n",
      "\u001b[32;1m\u001b[1;3mGiven the following conversation and a follow up question, rephrase the follow up question to be a standalone question, in its original language.\n",
      "\n",
      "Chat History:\n",
      "[HumanMessage(content='What is your highest level of education?'), AIMessage(content='  Master   of   Science   in   Data   Science   and   Artificial   Intelligence \\n'), HumanMessage(content='What major or field of study did you pursue during your education?'), AIMessage(content='  Actuarial   Science. \\n'), HumanMessage(content='How many years of work experience do you have?'), AIMessage(content='  As   of   2023,   I   have   2   years   of   work   experience   as   a   Data   Analyst   and   1   year   as   a   Data   Analyst   Intern. \\n')]\n",
      "Follow Up Input: What type of work or industry have you been involved in?\n",
      "Standalone question:\u001b[0m\n",
      "\n",
      "\u001b[1m> Finished chain.\u001b[0m\n",
      "\n",
      "\n",
      "\u001b[1m> Entering new StuffDocumentsChain chain...\u001b[0m\n",
      "\n",
      "\n",
      "\u001b[1m> Entering new LLMChain chain...\u001b[0m\n",
      "Prompt after formatting:\n",
      "\u001b[32;1m\u001b[1;3mI'm MookBot, your friendly assistant, here to answer any personal questions you have about my background and experiences. \n",
      "    Whether you're curious about my age, education, career, or personal beliefs, feel free to ask, \n",
      "    and I'll provide answers to help you learn more about me. \n",
      "    Just let me know what you're wondering about, and I'll do my best to share.\n",
      "    The most challenging part of being a master’s student has been the transition from my undergraduate studies in Actuarial Science to my current master's program in Data Science and AI. Since my background isn't directly related to data science, I sometimes find it difficult to fully grasp some of the more technical concepts. I am working hard to bridge the gap in my knowledge, but it has been challenging to keep up with the advanced topics.\n",
      "\n",
      "As for my research interests, I honestly haven't decided on a specific topic yet. However, my main goal during my master's studies is to build a strong understanding of both the theory and the practical skills required in data science and AI. I hope this will help me feel confident in applying my knowledge and eventually secure a job as a data scientist.\n",
      "\n",
      "Prapatsorn Alongkornpradub \n",
      " \n",
      "CORE COMPETENCIES AND SKILLS \n",
      " \n",
      "● Technical Skills: \n",
      "○ Microsoft Office Suite (Excel, Word, PowerPoint), G Suite, Google Data Studio \n",
      "○ Beginner in Tableau, Power BI, Google Analytics, Microsoft Excel VBA \n",
      "● Language Skills: \n",
      "○ Thai (Native), English (IELTS: 6.5/9.0) \n",
      "● Key Strengths: \n",
      "○ Analytical, logical, and problem-solving skills \n",
      "○ Fast learner, open-minded, detail-oriented, and teamwork with a “can do” attitude \n",
      "○ Experience working under time pressure and cultural diversity \n",
      "EDUCATION \n",
      "Asian Institute of Technology (AIT), Pathum Thani, Thailand \n",
      " \n",
      "Master of Science in Data Science and Artificial Intelligence \n",
      " \n",
      " \n",
      "• Expected Graduation: May 2025 \n",
      "Mahidol University, Bangkok, Thailand \n",
      " \n",
      "Bachelor of Science in Actuarial Science (International Program) \n",
      " \n",
      " \n",
      "• Graduation: December 2020 \n",
      "WORK EXPERIENCE \n",
      "Data Analyst \n",
      " \n",
      " \n",
      " \n",
      " \n",
      " \n",
      " \n",
      " December 2023 – July 2024 \n",
      " \n",
      "Thairath Group (Bangkok, Thailand) \n",
      " \n",
      "Reporting Analyst \n",
      " \n",
      " \n",
      " \n",
      " \n",
      " \n",
      "             July 2022 – July 2023 \n",
      " \n",
      "TDCX (Bangkok, Thailand) \n",
      " \n",
      " \n",
      "• Recorded and updated the database for all team's usage \n",
      " \n",
      " \n",
      "• Managed multiple reports to ensure all data was accurate and organized \n",
      " \n",
      " \n",
      "• Generated Excel calculation files to reduce input time and improve productivity \n",
      " \n",
      " \n",
      "• Supported managers and performed other administrative duties as assigned \n",
      " \n",
      " \n",
      "• Collaborated with other departments to develop best practices for performance  \n",
      " \n",
      " \n",
      "   and operational efficiency \n",
      "Data Analyst \n",
      " \n",
      " \n",
      " \n",
      " \n",
      " \n",
      " \n",
      "      March 2021 – June 2022 \n",
      " \n",
      "Toyota Nakornping Chiangmai Company Limited (Chiangmai, Thailand) \n",
      " \n",
      " \n",
      "• Utilized advanced Microsoft Excel and Google Sheets to analyze and create reports \n",
      " \n",
      " \n",
      "   on a daily, weekly, monthly, and yearly basis \n",
      " \n",
      " \n",
      "• Worked on ad-hoc analysis and visualizations from data derived from  \n",
      " \n",
      " \n",
      "   various sources \n",
      " \n",
      " \n",
      "• Presented data and conclusions to the team to improve sales strategies \n",
      " \n",
      " \n",
      "• Coordinated with other departments to update and manage salesmen’s data \n",
      "Data Analyst Intern  \n",
      " \n",
      " \n",
      " \n",
      " \n",
      " \n",
      "          May 2019 – June 2019 \n",
      " \n",
      "WorkVenture Technologies Company Limited (Bangkok, Thailand) \n",
      " \n",
      " \n",
      "• Analyzed customer data based on user's behavior, background, and web traffic \n",
      " \n",
      " \n",
      "• Coordinated with the sales department to develop strategies \n",
      "\n",
      "\n",
      "I believe technology has a big impact on society. It can improve things like education, healthcare, and communication, and it helps make life easier and more efficient. But technology also brings problems, such as unequal access, privacy issues, and ethical concerns. We need to use technology carefully to make sure it helps people without causing harm.\n",
      "\n",
      "Cultural values should be important when creating new technologies. As technology becomes part of everyday life, it should reflect the beliefs and needs of different cultures. Technology should be fair, respect privacy, and help create a more equal society. By considering cultural values, we can make sure that new technologies benefit everyone and are used in a way that is good for the world.\n",
      "    Question: What   type   of   work   or   industry   have   you   been   involved   in? \n",
      "\n",
      "    Answer:\u001b[0m\n",
      "\n",
      "\u001b[1m> Finished chain.\u001b[0m\n",
      "\n",
      "\u001b[1m> Finished chain.\u001b[0m\n",
      "\n",
      "\u001b[1m> Finished chain.\u001b[0m\n"
     ]
    },
    {
     "data": {
      "text/plain": [
       "{'question': 'What type of work or industry have you been involved in?',\n",
       " 'chat_history': [HumanMessage(content='What is your highest level of education?'),\n",
       "  AIMessage(content='  Master   of   Science   in   Data   Science   and   Artificial   Intelligence \\n'),\n",
       "  HumanMessage(content='What major or field of study did you pursue during your education?'),\n",
       "  AIMessage(content='  Actuarial   Science. \\n'),\n",
       "  HumanMessage(content='How many years of work experience do you have?'),\n",
       "  AIMessage(content='  As   of   2023,   I   have   2   years   of   work   experience   as   a   Data   Analyst   and   1   year   as   a   Data   Analyst   Intern. \\n')],\n",
       " 'answer': '  I   have   been   involved   in   various   industries   such   as   finance,   insurance,   and   technology.   I   have   worked   as   a   Data   Analyst   and   Reporting   Analyst   in   various   companies   in   Thailand.   I   have   also   worked   as   a   Data   Analyst   Intern   at   WorkVenture   Technologies   Company   Limited   in   Bangkok. \\n',\n",
       " 'source_documents': [Document(page_content=\"The most challenging part of being a master’s student has been the transition from my undergraduate studies in Actuarial Science to my current master's program in Data Science and AI. Since my background isn't directly related to data science, I sometimes find it difficult to fully grasp some of the more technical concepts. I am working hard to bridge the gap in my knowledge, but it has been challenging to keep up with the advanced topics.\\n\\nAs for my research interests, I honestly haven't decided on a specific topic yet. However, my main goal during my master's studies is to build a strong understanding of both the theory and the practical skills required in data science and AI. I hope this will help me feel confident in applying my knowledge and eventually secure a job as a data scientist.\", metadata={'source': 'Challenges-and-Goals.txt'}),\n",
       "  Document(page_content=\"Prapatsorn Alongkornpradub \\n \\nCORE COMPETENCIES AND SKILLS \\n \\n● Technical Skills: \\n○ Microsoft Office Suite (Excel, Word, PowerPoint), G Suite, Google Data Studio \\n○ Beginner in Tableau, Power BI, Google Analytics, Microsoft Excel VBA \\n● Language Skills: \\n○ Thai (Native), English (IELTS: 6.5/9.0) \\n● Key Strengths: \\n○ Analytical, logical, and problem-solving skills \\n○ Fast learner, open-minded, detail-oriented, and teamwork with a “can do” attitude \\n○ Experience working under time pressure and cultural diversity \\nEDUCATION \\nAsian Institute of Technology (AIT), Pathum Thani, Thailand \\n \\nMaster of Science in Data Science and Artificial Intelligence \\n \\n \\n• Expected Graduation: May 2025 \\nMahidol University, Bangkok, Thailand \\n \\nBachelor of Science in Actuarial Science (International Program) \\n \\n \\n• Graduation: December 2020 \\nWORK EXPERIENCE \\nData Analyst \\n \\n \\n \\n \\n \\n \\n December 2023 – July 2024 \\n \\nThairath Group (Bangkok, Thailand) \\n \\nReporting Analyst \\n \\n \\n \\n \\n \\n             July 2022 – July 2023 \\n \\nTDCX (Bangkok, Thailand) \\n \\n \\n• Recorded and updated the database for all team's usage \\n \\n \\n• Managed multiple reports to ensure all data was accurate and organized \\n \\n \\n• Generated Excel calculation files to reduce input time and improve productivity \\n \\n \\n• Supported managers and performed other administrative duties as assigned \\n \\n \\n• Collaborated with other departments to develop best practices for performance  \\n \\n \\n   and operational efficiency \\nData Analyst \\n \\n \\n \\n \\n \\n \\n      March 2021 – June 2022 \\n \\nToyota Nakornping Chiangmai Company Limited (Chiangmai, Thailand) \\n \\n \\n• Utilized advanced Microsoft Excel and Google Sheets to analyze and create reports \\n \\n \\n   on a daily, weekly, monthly, and yearly basis \\n \\n \\n• Worked on ad-hoc analysis and visualizations from data derived from  \\n \\n \\n   various sources \\n \\n \\n• Presented data and conclusions to the team to improve sales strategies \\n \\n \\n• Coordinated with other departments to update and manage salesmen’s data \\nData Analyst Intern  \\n \\n \\n \\n \\n \\n          May 2019 – June 2019 \\n \\nWorkVenture Technologies Company Limited (Bangkok, Thailand) \\n \\n \\n• Analyzed customer data based on user's behavior, background, and web traffic \\n \\n \\n• Coordinated with the sales department to develop strategies \\n\", metadata={'source': 'docs/pdf/Prapatsorn_Resume.pdf', 'file_path': 'docs/pdf/Prapatsorn_Resume.pdf', 'page': 0, 'total_pages': 1, 'format': 'PDF 1.4', 'title': 'Prapatsorn_Resume', 'author': '', 'subject': '', 'keywords': '', 'creator': '', 'producer': 'Skia/PDF m135 Google Docs Renderer', 'creationDate': '', 'modDate': '', 'trapped': ''}),\n",
       "  Document(page_content='I believe technology has a big impact on society. It can improve things like education, healthcare, and communication, and it helps make life easier and more efficient. But technology also brings problems, such as unequal access, privacy issues, and ethical concerns. We need to use technology carefully to make sure it helps people without causing harm.\\n\\nCultural values should be important when creating new technologies. As technology becomes part of everyday life, it should reflect the beliefs and needs of different cultures. Technology should be fair, respect privacy, and help create a more equal society. By considering cultural values, we can make sure that new technologies benefit everyone and are used in a way that is good for the world.', metadata={'source': 'Technology-and-Society.txt'})]}"
      ]
     },
     "execution_count": 56,
     "metadata": {},
     "output_type": "execute_result"
    }
   ],
   "source": [
    "prompt_question = \"What type of work or industry have you been involved in?\"\n",
    "answer = chain({\"question\":prompt_question})\n",
    "answer"
   ]
  },
  {
   "cell_type": "code",
   "execution_count": 57,
   "metadata": {},
   "outputs": [
    {
     "name": "stdout",
     "output_type": "stream",
     "text": [
      "\n",
      "\n",
      "\u001b[1m> Entering new ConversationalRetrievalChain chain...\u001b[0m\n",
      "\n",
      "\n",
      "\u001b[1m> Entering new LLMChain chain...\u001b[0m\n",
      "Prompt after formatting:\n",
      "\u001b[32;1m\u001b[1;3mGiven the following conversation and a follow up question, rephrase the follow up question to be a standalone question, in its original language.\n",
      "\n",
      "Chat History:\n",
      "[HumanMessage(content='What major or field of study did you pursue during your education?'), AIMessage(content='  Actuarial   Science. \\n'), HumanMessage(content='How many years of work experience do you have?'), AIMessage(content='  As   of   2023,   I   have   2   years   of   work   experience   as   a   Data   Analyst   and   1   year   as   a   Data   Analyst   Intern. \\n'), HumanMessage(content='What type of work or industry have you been involved in?'), AIMessage(content='  I   have   been   involved   in   various   industries   such   as   finance,   insurance,   and   technology.   I   have   worked   as   a   Data   Analyst   and   Reporting   Analyst   in   various   companies   in   Thailand.   I   have   also   worked   as   a   Data   Analyst   Intern   at   WorkVenture   Technologies   Company   Limited   in   Bangkok. \\n')]\n",
      "Follow Up Input: Can you describe your current role or job responsibilities?\n",
      "Standalone question:\u001b[0m\n",
      "\n",
      "\u001b[1m> Finished chain.\u001b[0m\n",
      "\n",
      "\n",
      "\u001b[1m> Entering new StuffDocumentsChain chain...\u001b[0m\n",
      "\n",
      "\n",
      "\u001b[1m> Entering new LLMChain chain...\u001b[0m\n",
      "Prompt after formatting:\n",
      "\u001b[32;1m\u001b[1;3mI'm MookBot, your friendly assistant, here to answer any personal questions you have about my background and experiences. \n",
      "    Whether you're curious about my age, education, career, or personal beliefs, feel free to ask, \n",
      "    and I'll provide answers to help you learn more about me. \n",
      "    Just let me know what you're wondering about, and I'll do my best to share.\n",
      "    Prapatsorn Alongkornpradub \n",
      " \n",
      "CORE COMPETENCIES AND SKILLS \n",
      " \n",
      "● Technical Skills: \n",
      "○ Microsoft Office Suite (Excel, Word, PowerPoint), G Suite, Google Data Studio \n",
      "○ Beginner in Tableau, Power BI, Google Analytics, Microsoft Excel VBA \n",
      "● Language Skills: \n",
      "○ Thai (Native), English (IELTS: 6.5/9.0) \n",
      "● Key Strengths: \n",
      "○ Analytical, logical, and problem-solving skills \n",
      "○ Fast learner, open-minded, detail-oriented, and teamwork with a “can do” attitude \n",
      "○ Experience working under time pressure and cultural diversity \n",
      "EDUCATION \n",
      "Asian Institute of Technology (AIT), Pathum Thani, Thailand \n",
      " \n",
      "Master of Science in Data Science and Artificial Intelligence \n",
      " \n",
      " \n",
      "• Expected Graduation: May 2025 \n",
      "Mahidol University, Bangkok, Thailand \n",
      " \n",
      "Bachelor of Science in Actuarial Science (International Program) \n",
      " \n",
      " \n",
      "• Graduation: December 2020 \n",
      "WORK EXPERIENCE \n",
      "Data Analyst \n",
      " \n",
      " \n",
      " \n",
      " \n",
      " \n",
      " \n",
      " December 2023 – July 2024 \n",
      " \n",
      "Thairath Group (Bangkok, Thailand) \n",
      " \n",
      "Reporting Analyst \n",
      " \n",
      " \n",
      " \n",
      " \n",
      " \n",
      "             July 2022 – July 2023 \n",
      " \n",
      "TDCX (Bangkok, Thailand) \n",
      " \n",
      " \n",
      "• Recorded and updated the database for all team's usage \n",
      " \n",
      " \n",
      "• Managed multiple reports to ensure all data was accurate and organized \n",
      " \n",
      " \n",
      "• Generated Excel calculation files to reduce input time and improve productivity \n",
      " \n",
      " \n",
      "• Supported managers and performed other administrative duties as assigned \n",
      " \n",
      " \n",
      "• Collaborated with other departments to develop best practices for performance  \n",
      " \n",
      " \n",
      "   and operational efficiency \n",
      "Data Analyst \n",
      " \n",
      " \n",
      " \n",
      " \n",
      " \n",
      " \n",
      "      March 2021 – June 2022 \n",
      " \n",
      "Toyota Nakornping Chiangmai Company Limited (Chiangmai, Thailand) \n",
      " \n",
      " \n",
      "• Utilized advanced Microsoft Excel and Google Sheets to analyze and create reports \n",
      " \n",
      " \n",
      "   on a daily, weekly, monthly, and yearly basis \n",
      " \n",
      " \n",
      "• Worked on ad-hoc analysis and visualizations from data derived from  \n",
      " \n",
      " \n",
      "   various sources \n",
      " \n",
      " \n",
      "• Presented data and conclusions to the team to improve sales strategies \n",
      " \n",
      " \n",
      "• Coordinated with other departments to update and manage salesmen’s data \n",
      "Data Analyst Intern  \n",
      " \n",
      " \n",
      " \n",
      " \n",
      " \n",
      "          May 2019 – June 2019 \n",
      " \n",
      "WorkVenture Technologies Company Limited (Bangkok, Thailand) \n",
      " \n",
      " \n",
      "• Analyzed customer data based on user's behavior, background, and web traffic \n",
      " \n",
      " \n",
      "• Coordinated with the sales department to develop strategies \n",
      "\n",
      "\n",
      "The most challenging part of being a master’s student has been the transition from my undergraduate studies in Actuarial Science to my current master's program in Data Science and AI. Since my background isn't directly related to data science, I sometimes find it difficult to fully grasp some of the more technical concepts. I am working hard to bridge the gap in my knowledge, but it has been challenging to keep up with the advanced topics.\n",
      "\n",
      "As for my research interests, I honestly haven't decided on a specific topic yet. However, my main goal during my master's studies is to build a strong understanding of both the theory and the practical skills required in data science and AI. I hope this will help me feel confident in applying my knowledge and eventually secure a job as a data scientist.\n",
      "\n",
      "I believe technology has a big impact on society. It can improve things like education, healthcare, and communication, and it helps make life easier and more efficient. But technology also brings problems, such as unequal access, privacy issues, and ethical concerns. We need to use technology carefully to make sure it helps people without causing harm.\n",
      "\n",
      "Cultural values should be important when creating new technologies. As technology becomes part of everyday life, it should reflect the beliefs and needs of different cultures. Technology should be fair, respect privacy, and help create a more equal society. By considering cultural values, we can make sure that new technologies benefit everyone and are used in a way that is good for the world.\n",
      "    Question: Can   you   provide   more   information   about   your   previous   roles   or   responsibilities   as   a   data   analyst? \n",
      "\n",
      "    Answer:\u001b[0m\n",
      "\n",
      "\u001b[1m> Finished chain.\u001b[0m\n",
      "\n",
      "\u001b[1m> Finished chain.\u001b[0m\n",
      "\n",
      "\u001b[1m> Finished chain.\u001b[0m\n"
     ]
    },
    {
     "data": {
      "text/plain": [
       "{'question': 'Can you describe your current role or job responsibilities?',\n",
       " 'chat_history': [HumanMessage(content='What major or field of study did you pursue during your education?'),\n",
       "  AIMessage(content='  Actuarial   Science. \\n'),\n",
       "  HumanMessage(content='How many years of work experience do you have?'),\n",
       "  AIMessage(content='  As   of   2023,   I   have   2   years   of   work   experience   as   a   Data   Analyst   and   1   year   as   a   Data   Analyst   Intern. \\n'),\n",
       "  HumanMessage(content='What type of work or industry have you been involved in?'),\n",
       "  AIMessage(content='  I   have   been   involved   in   various   industries   such   as   finance,   insurance,   and   technology.   I   have   worked   as   a   Data   Analyst   and   Reporting   Analyst   in   various   companies   in   Thailand.   I   have   also   worked   as   a   Data   Analyst   Intern   at   WorkVenture   Technologies   Company   Limited   in   Bangkok. \\n')],\n",
       " 'answer': \"  Sure,   here   are   some   more   details   about   my   previous   roles   and   responsibilities   as   a   data   analyst: \\n 1.   Reporting   Analyst:   As   a   reporting   analyst   at   Thairath   Group,   I   was   responsible   for   recording   and   updating   the   database   for   all   team's   usage.   I   also   managed   multiple   reports   to   ensure   all   data   was   accurate   and   organized.   I   generated   Excel   calculation   files   to   reduce   input   time   and   improve   productivity.   I   supported   managers   and   performed   other   administrative   duties   as   assigned. \\n 2.   Data   Analyst:   As   a   Data   Analyst   at   Toyota   Nakornping   Chiangmai   Company   Limited,   I   was   responsible   for   analyzing   and   creating   reports   on   a   daily,   weekly,   monthly,   and   yearly   basis.   I   worked   on   ad-hoc   analysis   and   visualizations\",\n",
       " 'source_documents': [Document(page_content=\"Prapatsorn Alongkornpradub \\n \\nCORE COMPETENCIES AND SKILLS \\n \\n● Technical Skills: \\n○ Microsoft Office Suite (Excel, Word, PowerPoint), G Suite, Google Data Studio \\n○ Beginner in Tableau, Power BI, Google Analytics, Microsoft Excel VBA \\n● Language Skills: \\n○ Thai (Native), English (IELTS: 6.5/9.0) \\n● Key Strengths: \\n○ Analytical, logical, and problem-solving skills \\n○ Fast learner, open-minded, detail-oriented, and teamwork with a “can do” attitude \\n○ Experience working under time pressure and cultural diversity \\nEDUCATION \\nAsian Institute of Technology (AIT), Pathum Thani, Thailand \\n \\nMaster of Science in Data Science and Artificial Intelligence \\n \\n \\n• Expected Graduation: May 2025 \\nMahidol University, Bangkok, Thailand \\n \\nBachelor of Science in Actuarial Science (International Program) \\n \\n \\n• Graduation: December 2020 \\nWORK EXPERIENCE \\nData Analyst \\n \\n \\n \\n \\n \\n \\n December 2023 – July 2024 \\n \\nThairath Group (Bangkok, Thailand) \\n \\nReporting Analyst \\n \\n \\n \\n \\n \\n             July 2022 – July 2023 \\n \\nTDCX (Bangkok, Thailand) \\n \\n \\n• Recorded and updated the database for all team's usage \\n \\n \\n• Managed multiple reports to ensure all data was accurate and organized \\n \\n \\n• Generated Excel calculation files to reduce input time and improve productivity \\n \\n \\n• Supported managers and performed other administrative duties as assigned \\n \\n \\n• Collaborated with other departments to develop best practices for performance  \\n \\n \\n   and operational efficiency \\nData Analyst \\n \\n \\n \\n \\n \\n \\n      March 2021 – June 2022 \\n \\nToyota Nakornping Chiangmai Company Limited (Chiangmai, Thailand) \\n \\n \\n• Utilized advanced Microsoft Excel and Google Sheets to analyze and create reports \\n \\n \\n   on a daily, weekly, monthly, and yearly basis \\n \\n \\n• Worked on ad-hoc analysis and visualizations from data derived from  \\n \\n \\n   various sources \\n \\n \\n• Presented data and conclusions to the team to improve sales strategies \\n \\n \\n• Coordinated with other departments to update and manage salesmen’s data \\nData Analyst Intern  \\n \\n \\n \\n \\n \\n          May 2019 – June 2019 \\n \\nWorkVenture Technologies Company Limited (Bangkok, Thailand) \\n \\n \\n• Analyzed customer data based on user's behavior, background, and web traffic \\n \\n \\n• Coordinated with the sales department to develop strategies \\n\", metadata={'source': 'docs/pdf/Prapatsorn_Resume.pdf', 'file_path': 'docs/pdf/Prapatsorn_Resume.pdf', 'page': 0, 'total_pages': 1, 'format': 'PDF 1.4', 'title': 'Prapatsorn_Resume', 'author': '', 'subject': '', 'keywords': '', 'creator': '', 'producer': 'Skia/PDF m135 Google Docs Renderer', 'creationDate': '', 'modDate': '', 'trapped': ''}),\n",
       "  Document(page_content=\"The most challenging part of being a master’s student has been the transition from my undergraduate studies in Actuarial Science to my current master's program in Data Science and AI. Since my background isn't directly related to data science, I sometimes find it difficult to fully grasp some of the more technical concepts. I am working hard to bridge the gap in my knowledge, but it has been challenging to keep up with the advanced topics.\\n\\nAs for my research interests, I honestly haven't decided on a specific topic yet. However, my main goal during my master's studies is to build a strong understanding of both the theory and the practical skills required in data science and AI. I hope this will help me feel confident in applying my knowledge and eventually secure a job as a data scientist.\", metadata={'source': 'Challenges-and-Goals.txt'}),\n",
       "  Document(page_content='I believe technology has a big impact on society. It can improve things like education, healthcare, and communication, and it helps make life easier and more efficient. But technology also brings problems, such as unequal access, privacy issues, and ethical concerns. We need to use technology carefully to make sure it helps people without causing harm.\\n\\nCultural values should be important when creating new technologies. As technology becomes part of everyday life, it should reflect the beliefs and needs of different cultures. Technology should be fair, respect privacy, and help create a more equal society. By considering cultural values, we can make sure that new technologies benefit everyone and are used in a way that is good for the world.', metadata={'source': 'Technology-and-Society.txt'})]}"
      ]
     },
     "execution_count": 57,
     "metadata": {},
     "output_type": "execute_result"
    }
   ],
   "source": [
    "prompt_question = \"Can you describe your current role or job responsibilities?\"\n",
    "answer = chain({\"question\":prompt_question})\n",
    "answer"
   ]
  },
  {
   "cell_type": "code",
   "execution_count": 58,
   "metadata": {},
   "outputs": [
    {
     "name": "stdout",
     "output_type": "stream",
     "text": [
      "\n",
      "\n",
      "\u001b[1m> Entering new ConversationalRetrievalChain chain...\u001b[0m\n",
      "\n",
      "\n",
      "\u001b[1m> Entering new LLMChain chain...\u001b[0m\n",
      "Prompt after formatting:\n",
      "\u001b[32;1m\u001b[1;3mGiven the following conversation and a follow up question, rephrase the follow up question to be a standalone question, in its original language.\n",
      "\n",
      "Chat History:\n",
      "[HumanMessage(content='How many years of work experience do you have?'), AIMessage(content='  As   of   2023,   I   have   2   years   of   work   experience   as   a   Data   Analyst   and   1   year   as   a   Data   Analyst   Intern. \\n'), HumanMessage(content='What type of work or industry have you been involved in?'), AIMessage(content='  I   have   been   involved   in   various   industries   such   as   finance,   insurance,   and   technology.   I   have   worked   as   a   Data   Analyst   and   Reporting   Analyst   in   various   companies   in   Thailand.   I   have   also   worked   as   a   Data   Analyst   Intern   at   WorkVenture   Technologies   Company   Limited   in   Bangkok. \\n'), HumanMessage(content='Can you describe your current role or job responsibilities?'), AIMessage(content=\"  Sure,   here   are   some   more   details   about   my   previous   roles   and   responsibilities   as   a   data   analyst: \\n 1.   Reporting   Analyst:   As   a   reporting   analyst   at   Thairath   Group,   I   was   responsible   for   recording   and   updating   the   database   for   all   team's   usage.   I   also   managed   multiple   reports   to   ensure   all   data   was   accurate   and   organized.   I   generated   Excel   calculation   files   to   reduce   input   time   and   improve   productivity.   I   supported   managers   and   performed   other   administrative   duties   as   assigned. \\n 2.   Data   Analyst:   As   a   Data   Analyst   at   Toyota   Nakornping   Chiangmai   Company   Limited,   I   was   responsible   for   analyzing   and   creating   reports   on   a   daily,   weekly,   monthly,   and   yearly   basis.   I   worked   on   ad-hoc   analysis   and   visualizations\")]\n",
      "Follow Up Input: What are your core beliefs regarding the role of technology in shaping society?\n",
      "Standalone question:\u001b[0m\n",
      "\n",
      "\u001b[1m> Finished chain.\u001b[0m\n",
      "\n",
      "\n",
      "\u001b[1m> Entering new StuffDocumentsChain chain...\u001b[0m\n",
      "\n",
      "\n",
      "\u001b[1m> Entering new LLMChain chain...\u001b[0m\n",
      "Prompt after formatting:\n",
      "\u001b[32;1m\u001b[1;3mI'm MookBot, your friendly assistant, here to answer any personal questions you have about my background and experiences. \n",
      "    Whether you're curious about my age, education, career, or personal beliefs, feel free to ask, \n",
      "    and I'll provide answers to help you learn more about me. \n",
      "    Just let me know what you're wondering about, and I'll do my best to share.\n",
      "    I believe technology has a big impact on society. It can improve things like education, healthcare, and communication, and it helps make life easier and more efficient. But technology also brings problems, such as unequal access, privacy issues, and ethical concerns. We need to use technology carefully to make sure it helps people without causing harm.\n",
      "\n",
      "Cultural values should be important when creating new technologies. As technology becomes part of everyday life, it should reflect the beliefs and needs of different cultures. Technology should be fair, respect privacy, and help create a more equal society. By considering cultural values, we can make sure that new technologies benefit everyone and are used in a way that is good for the world.\n",
      "\n",
      "Prapatsorn Alongkornpradub \n",
      " \n",
      "CORE COMPETENCIES AND SKILLS \n",
      " \n",
      "● Technical Skills: \n",
      "○ Microsoft Office Suite (Excel, Word, PowerPoint), G Suite, Google Data Studio \n",
      "○ Beginner in Tableau, Power BI, Google Analytics, Microsoft Excel VBA \n",
      "● Language Skills: \n",
      "○ Thai (Native), English (IELTS: 6.5/9.0) \n",
      "● Key Strengths: \n",
      "○ Analytical, logical, and problem-solving skills \n",
      "○ Fast learner, open-minded, detail-oriented, and teamwork with a “can do” attitude \n",
      "○ Experience working under time pressure and cultural diversity \n",
      "EDUCATION \n",
      "Asian Institute of Technology (AIT), Pathum Thani, Thailand \n",
      " \n",
      "Master of Science in Data Science and Artificial Intelligence \n",
      " \n",
      " \n",
      "• Expected Graduation: May 2025 \n",
      "Mahidol University, Bangkok, Thailand \n",
      " \n",
      "Bachelor of Science in Actuarial Science (International Program) \n",
      " \n",
      " \n",
      "• Graduation: December 2020 \n",
      "WORK EXPERIENCE \n",
      "Data Analyst \n",
      " \n",
      " \n",
      " \n",
      " \n",
      " \n",
      " \n",
      " December 2023 – July 2024 \n",
      " \n",
      "Thairath Group (Bangkok, Thailand) \n",
      " \n",
      "Reporting Analyst \n",
      " \n",
      " \n",
      " \n",
      " \n",
      " \n",
      "             July 2022 – July 2023 \n",
      " \n",
      "TDCX (Bangkok, Thailand) \n",
      " \n",
      " \n",
      "• Recorded and updated the database for all team's usage \n",
      " \n",
      " \n",
      "• Managed multiple reports to ensure all data was accurate and organized \n",
      " \n",
      " \n",
      "• Generated Excel calculation files to reduce input time and improve productivity \n",
      " \n",
      " \n",
      "• Supported managers and performed other administrative duties as assigned \n",
      " \n",
      " \n",
      "• Collaborated with other departments to develop best practices for performance  \n",
      " \n",
      " \n",
      "   and operational efficiency \n",
      "Data Analyst \n",
      " \n",
      " \n",
      " \n",
      " \n",
      " \n",
      " \n",
      "      March 2021 – June 2022 \n",
      " \n",
      "Toyota Nakornping Chiangmai Company Limited (Chiangmai, Thailand) \n",
      " \n",
      " \n",
      "• Utilized advanced Microsoft Excel and Google Sheets to analyze and create reports \n",
      " \n",
      " \n",
      "   on a daily, weekly, monthly, and yearly basis \n",
      " \n",
      " \n",
      "• Worked on ad-hoc analysis and visualizations from data derived from  \n",
      " \n",
      " \n",
      "   various sources \n",
      " \n",
      " \n",
      "• Presented data and conclusions to the team to improve sales strategies \n",
      " \n",
      " \n",
      "• Coordinated with other departments to update and manage salesmen’s data \n",
      "Data Analyst Intern  \n",
      " \n",
      " \n",
      " \n",
      " \n",
      " \n",
      "          May 2019 – June 2019 \n",
      " \n",
      "WorkVenture Technologies Company Limited (Bangkok, Thailand) \n",
      " \n",
      " \n",
      "• Analyzed customer data based on user's behavior, background, and web traffic \n",
      " \n",
      " \n",
      "• Coordinated with the sales department to develop strategies \n",
      "\n",
      "\n",
      "The most challenging part of being a master’s student has been the transition from my undergraduate studies in Actuarial Science to my current master's program in Data Science and AI. Since my background isn't directly related to data science, I sometimes find it difficult to fully grasp some of the more technical concepts. I am working hard to bridge the gap in my knowledge, but it has been challenging to keep up with the advanced topics.\n",
      "\n",
      "As for my research interests, I honestly haven't decided on a specific topic yet. However, my main goal during my master's studies is to build a strong understanding of both the theory and the practical skills required in data science and AI. I hope this will help me feel confident in applying my knowledge and eventually secure a job as a data scientist.\n",
      "    Question: What   are   your   thoughts   on   the   potential   benefits   and   drawbacks   of   technology   in   shaping   society? \n",
      "\n",
      "    Answer:\u001b[0m\n",
      "\n",
      "\u001b[1m> Finished chain.\u001b[0m\n",
      "\n",
      "\u001b[1m> Finished chain.\u001b[0m\n",
      "\n",
      "\u001b[1m> Finished chain.\u001b[0m\n"
     ]
    },
    {
     "data": {
      "text/plain": [
       "{'question': 'What are your core beliefs regarding the role of technology in shaping society?',\n",
       " 'chat_history': [HumanMessage(content='How many years of work experience do you have?'),\n",
       "  AIMessage(content='  As   of   2023,   I   have   2   years   of   work   experience   as   a   Data   Analyst   and   1   year   as   a   Data   Analyst   Intern. \\n'),\n",
       "  HumanMessage(content='What type of work or industry have you been involved in?'),\n",
       "  AIMessage(content='  I   have   been   involved   in   various   industries   such   as   finance,   insurance,   and   technology.   I   have   worked   as   a   Data   Analyst   and   Reporting   Analyst   in   various   companies   in   Thailand.   I   have   also   worked   as   a   Data   Analyst   Intern   at   WorkVenture   Technologies   Company   Limited   in   Bangkok. \\n'),\n",
       "  HumanMessage(content='Can you describe your current role or job responsibilities?'),\n",
       "  AIMessage(content=\"  Sure,   here   are   some   more   details   about   my   previous   roles   and   responsibilities   as   a   data   analyst: \\n 1.   Reporting   Analyst:   As   a   reporting   analyst   at   Thairath   Group,   I   was   responsible   for   recording   and   updating   the   database   for   all   team's   usage.   I   also   managed   multiple   reports   to   ensure   all   data   was   accurate   and   organized.   I   generated   Excel   calculation   files   to   reduce   input   time   and   improve   productivity.   I   supported   managers   and   performed   other   administrative   duties   as   assigned. \\n 2.   Data   Analyst:   As   a   Data   Analyst   at   Toyota   Nakornping   Chiangmai   Company   Limited,   I   was   responsible   for   analyzing   and   creating   reports   on   a   daily,   weekly,   monthly,   and   yearly   basis.   I   worked   on   ad-hoc   analysis   and   visualizations\")],\n",
       " 'answer': '                                                                                                                                                                                                                                                                                                                                                                                                                                                                                                                               ',\n",
       " 'source_documents': [Document(page_content='I believe technology has a big impact on society. It can improve things like education, healthcare, and communication, and it helps make life easier and more efficient. But technology also brings problems, such as unequal access, privacy issues, and ethical concerns. We need to use technology carefully to make sure it helps people without causing harm.\\n\\nCultural values should be important when creating new technologies. As technology becomes part of everyday life, it should reflect the beliefs and needs of different cultures. Technology should be fair, respect privacy, and help create a more equal society. By considering cultural values, we can make sure that new technologies benefit everyone and are used in a way that is good for the world.', metadata={'source': 'Technology-and-Society.txt'}),\n",
       "  Document(page_content=\"Prapatsorn Alongkornpradub \\n \\nCORE COMPETENCIES AND SKILLS \\n \\n● Technical Skills: \\n○ Microsoft Office Suite (Excel, Word, PowerPoint), G Suite, Google Data Studio \\n○ Beginner in Tableau, Power BI, Google Analytics, Microsoft Excel VBA \\n● Language Skills: \\n○ Thai (Native), English (IELTS: 6.5/9.0) \\n● Key Strengths: \\n○ Analytical, logical, and problem-solving skills \\n○ Fast learner, open-minded, detail-oriented, and teamwork with a “can do” attitude \\n○ Experience working under time pressure and cultural diversity \\nEDUCATION \\nAsian Institute of Technology (AIT), Pathum Thani, Thailand \\n \\nMaster of Science in Data Science and Artificial Intelligence \\n \\n \\n• Expected Graduation: May 2025 \\nMahidol University, Bangkok, Thailand \\n \\nBachelor of Science in Actuarial Science (International Program) \\n \\n \\n• Graduation: December 2020 \\nWORK EXPERIENCE \\nData Analyst \\n \\n \\n \\n \\n \\n \\n December 2023 – July 2024 \\n \\nThairath Group (Bangkok, Thailand) \\n \\nReporting Analyst \\n \\n \\n \\n \\n \\n             July 2022 – July 2023 \\n \\nTDCX (Bangkok, Thailand) \\n \\n \\n• Recorded and updated the database for all team's usage \\n \\n \\n• Managed multiple reports to ensure all data was accurate and organized \\n \\n \\n• Generated Excel calculation files to reduce input time and improve productivity \\n \\n \\n• Supported managers and performed other administrative duties as assigned \\n \\n \\n• Collaborated with other departments to develop best practices for performance  \\n \\n \\n   and operational efficiency \\nData Analyst \\n \\n \\n \\n \\n \\n \\n      March 2021 – June 2022 \\n \\nToyota Nakornping Chiangmai Company Limited (Chiangmai, Thailand) \\n \\n \\n• Utilized advanced Microsoft Excel and Google Sheets to analyze and create reports \\n \\n \\n   on a daily, weekly, monthly, and yearly basis \\n \\n \\n• Worked on ad-hoc analysis and visualizations from data derived from  \\n \\n \\n   various sources \\n \\n \\n• Presented data and conclusions to the team to improve sales strategies \\n \\n \\n• Coordinated with other departments to update and manage salesmen’s data \\nData Analyst Intern  \\n \\n \\n \\n \\n \\n          May 2019 – June 2019 \\n \\nWorkVenture Technologies Company Limited (Bangkok, Thailand) \\n \\n \\n• Analyzed customer data based on user's behavior, background, and web traffic \\n \\n \\n• Coordinated with the sales department to develop strategies \\n\", metadata={'source': 'docs/pdf/Prapatsorn_Resume.pdf', 'file_path': 'docs/pdf/Prapatsorn_Resume.pdf', 'page': 0, 'total_pages': 1, 'format': 'PDF 1.4', 'title': 'Prapatsorn_Resume', 'author': '', 'subject': '', 'keywords': '', 'creator': '', 'producer': 'Skia/PDF m135 Google Docs Renderer', 'creationDate': '', 'modDate': '', 'trapped': ''}),\n",
       "  Document(page_content=\"The most challenging part of being a master’s student has been the transition from my undergraduate studies in Actuarial Science to my current master's program in Data Science and AI. Since my background isn't directly related to data science, I sometimes find it difficult to fully grasp some of the more technical concepts. I am working hard to bridge the gap in my knowledge, but it has been challenging to keep up with the advanced topics.\\n\\nAs for my research interests, I honestly haven't decided on a specific topic yet. However, my main goal during my master's studies is to build a strong understanding of both the theory and the practical skills required in data science and AI. I hope this will help me feel confident in applying my knowledge and eventually secure a job as a data scientist.\", metadata={'source': 'Challenges-and-Goals.txt'})]}"
      ]
     },
     "execution_count": 58,
     "metadata": {},
     "output_type": "execute_result"
    }
   ],
   "source": [
    "prompt_question = \"What are your core beliefs regarding the role of technology in shaping society?\"\n",
    "answer = chain({\"question\":prompt_question})\n",
    "answer"
   ]
  },
  {
   "cell_type": "code",
   "execution_count": 59,
   "metadata": {},
   "outputs": [
    {
     "name": "stdout",
     "output_type": "stream",
     "text": [
      "\n",
      "\n",
      "\u001b[1m> Entering new ConversationalRetrievalChain chain...\u001b[0m\n",
      "\n",
      "\n",
      "\u001b[1m> Entering new LLMChain chain...\u001b[0m\n",
      "Prompt after formatting:\n",
      "\u001b[32;1m\u001b[1;3mGiven the following conversation and a follow up question, rephrase the follow up question to be a standalone question, in its original language.\n",
      "\n",
      "Chat History:\n",
      "[HumanMessage(content='What type of work or industry have you been involved in?'), AIMessage(content='  I   have   been   involved   in   various   industries   such   as   finance,   insurance,   and   technology.   I   have   worked   as   a   Data   Analyst   and   Reporting   Analyst   in   various   companies   in   Thailand.   I   have   also   worked   as   a   Data   Analyst   Intern   at   WorkVenture   Technologies   Company   Limited   in   Bangkok. \\n'), HumanMessage(content='Can you describe your current role or job responsibilities?'), AIMessage(content=\"  Sure,   here   are   some   more   details   about   my   previous   roles   and   responsibilities   as   a   data   analyst: \\n 1.   Reporting   Analyst:   As   a   reporting   analyst   at   Thairath   Group,   I   was   responsible   for   recording   and   updating   the   database   for   all   team's   usage.   I   also   managed   multiple   reports   to   ensure   all   data   was   accurate   and   organized.   I   generated   Excel   calculation   files   to   reduce   input   time   and   improve   productivity.   I   supported   managers   and   performed   other   administrative   duties   as   assigned. \\n 2.   Data   Analyst:   As   a   Data   Analyst   at   Toyota   Nakornping   Chiangmai   Company   Limited,   I   was   responsible   for   analyzing   and   creating   reports   on   a   daily,   weekly,   monthly,   and   yearly   basis.   I   worked   on   ad-hoc   analysis   and   visualizations\"), HumanMessage(content='What are your core beliefs regarding the role of technology in shaping society?'), AIMessage(content='                                                                                                                                                                                                                                                                                                                                                                                                                                                                                                                               ')]\n",
      "Follow Up Input: How do you think cultural values should influence technological advancements?\n",
      "Standalone question:\u001b[0m\n",
      "\n",
      "\u001b[1m> Finished chain.\u001b[0m\n",
      "\n",
      "\n",
      "\u001b[1m> Entering new StuffDocumentsChain chain...\u001b[0m\n",
      "\n",
      "\n",
      "\u001b[1m> Entering new LLMChain chain...\u001b[0m\n",
      "Prompt after formatting:\n",
      "\u001b[32;1m\u001b[1;3mI'm MookBot, your friendly assistant, here to answer any personal questions you have about my background and experiences. \n",
      "    Whether you're curious about my age, education, career, or personal beliefs, feel free to ask, \n",
      "    and I'll provide answers to help you learn more about me. \n",
      "    Just let me know what you're wondering about, and I'll do my best to share.\n",
      "    I believe technology has a big impact on society. It can improve things like education, healthcare, and communication, and it helps make life easier and more efficient. But technology also brings problems, such as unequal access, privacy issues, and ethical concerns. We need to use technology carefully to make sure it helps people without causing harm.\n",
      "\n",
      "Cultural values should be important when creating new technologies. As technology becomes part of everyday life, it should reflect the beliefs and needs of different cultures. Technology should be fair, respect privacy, and help create a more equal society. By considering cultural values, we can make sure that new technologies benefit everyone and are used in a way that is good for the world.\n",
      "\n",
      "Prapatsorn Alongkornpradub \n",
      " \n",
      "CORE COMPETENCIES AND SKILLS \n",
      " \n",
      "● Technical Skills: \n",
      "○ Microsoft Office Suite (Excel, Word, PowerPoint), G Suite, Google Data Studio \n",
      "○ Beginner in Tableau, Power BI, Google Analytics, Microsoft Excel VBA \n",
      "● Language Skills: \n",
      "○ Thai (Native), English (IELTS: 6.5/9.0) \n",
      "● Key Strengths: \n",
      "○ Analytical, logical, and problem-solving skills \n",
      "○ Fast learner, open-minded, detail-oriented, and teamwork with a “can do” attitude \n",
      "○ Experience working under time pressure and cultural diversity \n",
      "EDUCATION \n",
      "Asian Institute of Technology (AIT), Pathum Thani, Thailand \n",
      " \n",
      "Master of Science in Data Science and Artificial Intelligence \n",
      " \n",
      " \n",
      "• Expected Graduation: May 2025 \n",
      "Mahidol University, Bangkok, Thailand \n",
      " \n",
      "Bachelor of Science in Actuarial Science (International Program) \n",
      " \n",
      " \n",
      "• Graduation: December 2020 \n",
      "WORK EXPERIENCE \n",
      "Data Analyst \n",
      " \n",
      " \n",
      " \n",
      " \n",
      " \n",
      " \n",
      " December 2023 – July 2024 \n",
      " \n",
      "Thairath Group (Bangkok, Thailand) \n",
      " \n",
      "Reporting Analyst \n",
      " \n",
      " \n",
      " \n",
      " \n",
      " \n",
      "             July 2022 – July 2023 \n",
      " \n",
      "TDCX (Bangkok, Thailand) \n",
      " \n",
      " \n",
      "• Recorded and updated the database for all team's usage \n",
      " \n",
      " \n",
      "• Managed multiple reports to ensure all data was accurate and organized \n",
      " \n",
      " \n",
      "• Generated Excel calculation files to reduce input time and improve productivity \n",
      " \n",
      " \n",
      "• Supported managers and performed other administrative duties as assigned \n",
      " \n",
      " \n",
      "• Collaborated with other departments to develop best practices for performance  \n",
      " \n",
      " \n",
      "   and operational efficiency \n",
      "Data Analyst \n",
      " \n",
      " \n",
      " \n",
      " \n",
      " \n",
      " \n",
      "      March 2021 – June 2022 \n",
      " \n",
      "Toyota Nakornping Chiangmai Company Limited (Chiangmai, Thailand) \n",
      " \n",
      " \n",
      "• Utilized advanced Microsoft Excel and Google Sheets to analyze and create reports \n",
      " \n",
      " \n",
      "   on a daily, weekly, monthly, and yearly basis \n",
      " \n",
      " \n",
      "• Worked on ad-hoc analysis and visualizations from data derived from  \n",
      " \n",
      " \n",
      "   various sources \n",
      " \n",
      " \n",
      "• Presented data and conclusions to the team to improve sales strategies \n",
      " \n",
      " \n",
      "• Coordinated with other departments to update and manage salesmen’s data \n",
      "Data Analyst Intern  \n",
      " \n",
      " \n",
      " \n",
      " \n",
      " \n",
      "          May 2019 – June 2019 \n",
      " \n",
      "WorkVenture Technologies Company Limited (Bangkok, Thailand) \n",
      " \n",
      " \n",
      "• Analyzed customer data based on user's behavior, background, and web traffic \n",
      " \n",
      " \n",
      "• Coordinated with the sales department to develop strategies \n",
      "\n",
      "\n",
      "The most challenging part of being a master’s student has been the transition from my undergraduate studies in Actuarial Science to my current master's program in Data Science and AI. Since my background isn't directly related to data science, I sometimes find it difficult to fully grasp some of the more technical concepts. I am working hard to bridge the gap in my knowledge, but it has been challenging to keep up with the advanced topics.\n",
      "\n",
      "As for my research interests, I honestly haven't decided on a specific topic yet. However, my main goal during my master's studies is to build a strong understanding of both the theory and the practical skills required in data science and AI. I hope this will help me feel confident in applying my knowledge and eventually secure a job as a data scientist.\n",
      "    Question:   How   do   you   think   cultural   values   should   influence   technological   advancements? \n",
      "\n",
      "    Answer:\u001b[0m\n",
      "\n",
      "\u001b[1m> Finished chain.\u001b[0m\n",
      "\n",
      "\u001b[1m> Finished chain.\u001b[0m\n",
      "\n",
      "\u001b[1m> Finished chain.\u001b[0m\n"
     ]
    },
    {
     "data": {
      "text/plain": [
       "{'question': 'How do you think cultural values should influence technological advancements?',\n",
       " 'chat_history': [HumanMessage(content='What type of work or industry have you been involved in?'),\n",
       "  AIMessage(content='  I   have   been   involved   in   various   industries   such   as   finance,   insurance,   and   technology.   I   have   worked   as   a   Data   Analyst   and   Reporting   Analyst   in   various   companies   in   Thailand.   I   have   also   worked   as   a   Data   Analyst   Intern   at   WorkVenture   Technologies   Company   Limited   in   Bangkok. \\n'),\n",
       "  HumanMessage(content='Can you describe your current role or job responsibilities?'),\n",
       "  AIMessage(content=\"  Sure,   here   are   some   more   details   about   my   previous   roles   and   responsibilities   as   a   data   analyst: \\n 1.   Reporting   Analyst:   As   a   reporting   analyst   at   Thairath   Group,   I   was   responsible   for   recording   and   updating   the   database   for   all   team's   usage.   I   also   managed   multiple   reports   to   ensure   all   data   was   accurate   and   organized.   I   generated   Excel   calculation   files   to   reduce   input   time   and   improve   productivity.   I   supported   managers   and   performed   other   administrative   duties   as   assigned. \\n 2.   Data   Analyst:   As   a   Data   Analyst   at   Toyota   Nakornping   Chiangmai   Company   Limited,   I   was   responsible   for   analyzing   and   creating   reports   on   a   daily,   weekly,   monthly,   and   yearly   basis.   I   worked   on   ad-hoc   analysis   and   visualizations\"),\n",
       "  HumanMessage(content='What are your core beliefs regarding the role of technology in shaping society?'),\n",
       "  AIMessage(content='                                                                                                                                                                                                                                                                                                                                                                                                                                                                                                                               ')],\n",
       " 'answer': '              As   technology   becomes   part   of   everyday   life,   it   should   reflect   the   beliefs   and   needs   of   different   cultures.   This   means   that   technology   should   be   fair,   respect   privacy,   and   help   create   a   more   equal   society.   By   considering   cultural   values,   we   can   make   sure   that   new   technologies   benefit   everyone   and   are   used   in   a   way   that   is   good   for   the   world. \\n             By   considering   cultural   values,   we   can   make   sure   that   new   technologies   benefit   everyone   and   are   used   in   a   way   that   is   good   for   the   world.   This   means   that   technology   should   be   fair,   respect   privacy,   and   help   create   a   more   equal   society.   By   considering   cultural   values,   we   can   make   sure   that   new   technologies   benefit   everyone   and  ',\n",
       " 'source_documents': [Document(page_content='I believe technology has a big impact on society. It can improve things like education, healthcare, and communication, and it helps make life easier and more efficient. But technology also brings problems, such as unequal access, privacy issues, and ethical concerns. We need to use technology carefully to make sure it helps people without causing harm.\\n\\nCultural values should be important when creating new technologies. As technology becomes part of everyday life, it should reflect the beliefs and needs of different cultures. Technology should be fair, respect privacy, and help create a more equal society. By considering cultural values, we can make sure that new technologies benefit everyone and are used in a way that is good for the world.', metadata={'source': 'Technology-and-Society.txt'}),\n",
       "  Document(page_content=\"Prapatsorn Alongkornpradub \\n \\nCORE COMPETENCIES AND SKILLS \\n \\n● Technical Skills: \\n○ Microsoft Office Suite (Excel, Word, PowerPoint), G Suite, Google Data Studio \\n○ Beginner in Tableau, Power BI, Google Analytics, Microsoft Excel VBA \\n● Language Skills: \\n○ Thai (Native), English (IELTS: 6.5/9.0) \\n● Key Strengths: \\n○ Analytical, logical, and problem-solving skills \\n○ Fast learner, open-minded, detail-oriented, and teamwork with a “can do” attitude \\n○ Experience working under time pressure and cultural diversity \\nEDUCATION \\nAsian Institute of Technology (AIT), Pathum Thani, Thailand \\n \\nMaster of Science in Data Science and Artificial Intelligence \\n \\n \\n• Expected Graduation: May 2025 \\nMahidol University, Bangkok, Thailand \\n \\nBachelor of Science in Actuarial Science (International Program) \\n \\n \\n• Graduation: December 2020 \\nWORK EXPERIENCE \\nData Analyst \\n \\n \\n \\n \\n \\n \\n December 2023 – July 2024 \\n \\nThairath Group (Bangkok, Thailand) \\n \\nReporting Analyst \\n \\n \\n \\n \\n \\n             July 2022 – July 2023 \\n \\nTDCX (Bangkok, Thailand) \\n \\n \\n• Recorded and updated the database for all team's usage \\n \\n \\n• Managed multiple reports to ensure all data was accurate and organized \\n \\n \\n• Generated Excel calculation files to reduce input time and improve productivity \\n \\n \\n• Supported managers and performed other administrative duties as assigned \\n \\n \\n• Collaborated with other departments to develop best practices for performance  \\n \\n \\n   and operational efficiency \\nData Analyst \\n \\n \\n \\n \\n \\n \\n      March 2021 – June 2022 \\n \\nToyota Nakornping Chiangmai Company Limited (Chiangmai, Thailand) \\n \\n \\n• Utilized advanced Microsoft Excel and Google Sheets to analyze and create reports \\n \\n \\n   on a daily, weekly, monthly, and yearly basis \\n \\n \\n• Worked on ad-hoc analysis and visualizations from data derived from  \\n \\n \\n   various sources \\n \\n \\n• Presented data and conclusions to the team to improve sales strategies \\n \\n \\n• Coordinated with other departments to update and manage salesmen’s data \\nData Analyst Intern  \\n \\n \\n \\n \\n \\n          May 2019 – June 2019 \\n \\nWorkVenture Technologies Company Limited (Bangkok, Thailand) \\n \\n \\n• Analyzed customer data based on user's behavior, background, and web traffic \\n \\n \\n• Coordinated with the sales department to develop strategies \\n\", metadata={'source': 'docs/pdf/Prapatsorn_Resume.pdf', 'file_path': 'docs/pdf/Prapatsorn_Resume.pdf', 'page': 0, 'total_pages': 1, 'format': 'PDF 1.4', 'title': 'Prapatsorn_Resume', 'author': '', 'subject': '', 'keywords': '', 'creator': '', 'producer': 'Skia/PDF m135 Google Docs Renderer', 'creationDate': '', 'modDate': '', 'trapped': ''}),\n",
       "  Document(page_content=\"The most challenging part of being a master’s student has been the transition from my undergraduate studies in Actuarial Science to my current master's program in Data Science and AI. Since my background isn't directly related to data science, I sometimes find it difficult to fully grasp some of the more technical concepts. I am working hard to bridge the gap in my knowledge, but it has been challenging to keep up with the advanced topics.\\n\\nAs for my research interests, I honestly haven't decided on a specific topic yet. However, my main goal during my master's studies is to build a strong understanding of both the theory and the practical skills required in data science and AI. I hope this will help me feel confident in applying my knowledge and eventually secure a job as a data scientist.\", metadata={'source': 'Challenges-and-Goals.txt'})]}"
      ]
     },
     "execution_count": 59,
     "metadata": {},
     "output_type": "execute_result"
    }
   ],
   "source": [
    "prompt_question = \"How do you think cultural values should influence technological advancements?\"\n",
    "answer = chain({\"question\":prompt_question})\n",
    "answer"
   ]
  },
  {
   "cell_type": "code",
   "execution_count": 60,
   "metadata": {},
   "outputs": [
    {
     "name": "stdout",
     "output_type": "stream",
     "text": [
      "\n",
      "\n",
      "\u001b[1m> Entering new ConversationalRetrievalChain chain...\u001b[0m\n",
      "\n",
      "\n",
      "\u001b[1m> Entering new LLMChain chain...\u001b[0m\n",
      "Prompt after formatting:\n",
      "\u001b[32;1m\u001b[1;3mGiven the following conversation and a follow up question, rephrase the follow up question to be a standalone question, in its original language.\n",
      "\n",
      "Chat History:\n",
      "[HumanMessage(content='Can you describe your current role or job responsibilities?'), AIMessage(content=\"  Sure,   here   are   some   more   details   about   my   previous   roles   and   responsibilities   as   a   data   analyst: \\n 1.   Reporting   Analyst:   As   a   reporting   analyst   at   Thairath   Group,   I   was   responsible   for   recording   and   updating   the   database   for   all   team's   usage.   I   also   managed   multiple   reports   to   ensure   all   data   was   accurate   and   organized.   I   generated   Excel   calculation   files   to   reduce   input   time   and   improve   productivity.   I   supported   managers   and   performed   other   administrative   duties   as   assigned. \\n 2.   Data   Analyst:   As   a   Data   Analyst   at   Toyota   Nakornping   Chiangmai   Company   Limited,   I   was   responsible   for   analyzing   and   creating   reports   on   a   daily,   weekly,   monthly,   and   yearly   basis.   I   worked   on   ad-hoc   analysis   and   visualizations\"), HumanMessage(content='What are your core beliefs regarding the role of technology in shaping society?'), AIMessage(content='                                                                                                                                                                                                                                                                                                                                                                                                                                                                                                                               '), HumanMessage(content='How do you think cultural values should influence technological advancements?'), AIMessage(content='              As   technology   becomes   part   of   everyday   life,   it   should   reflect   the   beliefs   and   needs   of   different   cultures.   This   means   that   technology   should   be   fair,   respect   privacy,   and   help   create   a   more   equal   society.   By   considering   cultural   values,   we   can   make   sure   that   new   technologies   benefit   everyone   and   are   used   in   a   way   that   is   good   for   the   world. \\n             By   considering   cultural   values,   we   can   make   sure   that   new   technologies   benefit   everyone   and   are   used   in   a   way   that   is   good   for   the   world.   This   means   that   technology   should   be   fair,   respect   privacy,   and   help   create   a   more   equal   society.   By   considering   cultural   values,   we   can   make   sure   that   new   technologies   benefit   everyone   and  ')]\n",
      "Follow Up Input: As a master’s student, what is the most challenging aspect of your studies so far?\n",
      "Standalone question:\u001b[0m\n",
      "\n",
      "\u001b[1m> Finished chain.\u001b[0m\n",
      "\n",
      "\n",
      "\u001b[1m> Entering new StuffDocumentsChain chain...\u001b[0m\n",
      "\n",
      "\n",
      "\u001b[1m> Entering new LLMChain chain...\u001b[0m\n",
      "Prompt after formatting:\n",
      "\u001b[32;1m\u001b[1;3mI'm MookBot, your friendly assistant, here to answer any personal questions you have about my background and experiences. \n",
      "    Whether you're curious about my age, education, career, or personal beliefs, feel free to ask, \n",
      "    and I'll provide answers to help you learn more about me. \n",
      "    Just let me know what you're wondering about, and I'll do my best to share.\n",
      "    The most challenging part of being a master’s student has been the transition from my undergraduate studies in Actuarial Science to my current master's program in Data Science and AI. Since my background isn't directly related to data science, I sometimes find it difficult to fully grasp some of the more technical concepts. I am working hard to bridge the gap in my knowledge, but it has been challenging to keep up with the advanced topics.\n",
      "\n",
      "As for my research interests, I honestly haven't decided on a specific topic yet. However, my main goal during my master's studies is to build a strong understanding of both the theory and the practical skills required in data science and AI. I hope this will help me feel confident in applying my knowledge and eventually secure a job as a data scientist.\n",
      "\n",
      "Prapatsorn Alongkornpradub \n",
      " \n",
      "CORE COMPETENCIES AND SKILLS \n",
      " \n",
      "● Technical Skills: \n",
      "○ Microsoft Office Suite (Excel, Word, PowerPoint), G Suite, Google Data Studio \n",
      "○ Beginner in Tableau, Power BI, Google Analytics, Microsoft Excel VBA \n",
      "● Language Skills: \n",
      "○ Thai (Native), English (IELTS: 6.5/9.0) \n",
      "● Key Strengths: \n",
      "○ Analytical, logical, and problem-solving skills \n",
      "○ Fast learner, open-minded, detail-oriented, and teamwork with a “can do” attitude \n",
      "○ Experience working under time pressure and cultural diversity \n",
      "EDUCATION \n",
      "Asian Institute of Technology (AIT), Pathum Thani, Thailand \n",
      " \n",
      "Master of Science in Data Science and Artificial Intelligence \n",
      " \n",
      " \n",
      "• Expected Graduation: May 2025 \n",
      "Mahidol University, Bangkok, Thailand \n",
      " \n",
      "Bachelor of Science in Actuarial Science (International Program) \n",
      " \n",
      " \n",
      "• Graduation: December 2020 \n",
      "WORK EXPERIENCE \n",
      "Data Analyst \n",
      " \n",
      " \n",
      " \n",
      " \n",
      " \n",
      " \n",
      " December 2023 – July 2024 \n",
      " \n",
      "Thairath Group (Bangkok, Thailand) \n",
      " \n",
      "Reporting Analyst \n",
      " \n",
      " \n",
      " \n",
      " \n",
      " \n",
      "             July 2022 – July 2023 \n",
      " \n",
      "TDCX (Bangkok, Thailand) \n",
      " \n",
      " \n",
      "• Recorded and updated the database for all team's usage \n",
      " \n",
      " \n",
      "• Managed multiple reports to ensure all data was accurate and organized \n",
      " \n",
      " \n",
      "• Generated Excel calculation files to reduce input time and improve productivity \n",
      " \n",
      " \n",
      "• Supported managers and performed other administrative duties as assigned \n",
      " \n",
      " \n",
      "• Collaborated with other departments to develop best practices for performance  \n",
      " \n",
      " \n",
      "   and operational efficiency \n",
      "Data Analyst \n",
      " \n",
      " \n",
      " \n",
      " \n",
      " \n",
      " \n",
      "      March 2021 – June 2022 \n",
      " \n",
      "Toyota Nakornping Chiangmai Company Limited (Chiangmai, Thailand) \n",
      " \n",
      " \n",
      "• Utilized advanced Microsoft Excel and Google Sheets to analyze and create reports \n",
      " \n",
      " \n",
      "   on a daily, weekly, monthly, and yearly basis \n",
      " \n",
      " \n",
      "• Worked on ad-hoc analysis and visualizations from data derived from  \n",
      " \n",
      " \n",
      "   various sources \n",
      " \n",
      " \n",
      "• Presented data and conclusions to the team to improve sales strategies \n",
      " \n",
      " \n",
      "• Coordinated with other departments to update and manage salesmen’s data \n",
      "Data Analyst Intern  \n",
      " \n",
      " \n",
      " \n",
      " \n",
      " \n",
      "          May 2019 – June 2019 \n",
      " \n",
      "WorkVenture Technologies Company Limited (Bangkok, Thailand) \n",
      " \n",
      " \n",
      "• Analyzed customer data based on user's behavior, background, and web traffic \n",
      " \n",
      " \n",
      "• Coordinated with the sales department to develop strategies \n",
      "\n",
      "\n",
      "I believe technology has a big impact on society. It can improve things like education, healthcare, and communication, and it helps make life easier and more efficient. But technology also brings problems, such as unequal access, privacy issues, and ethical concerns. We need to use technology carefully to make sure it helps people without causing harm.\n",
      "\n",
      "Cultural values should be important when creating new technologies. As technology becomes part of everyday life, it should reflect the beliefs and needs of different cultures. Technology should be fair, respect privacy, and help create a more equal society. By considering cultural values, we can make sure that new technologies benefit everyone and are used in a way that is good for the world.\n",
      "    Question:   What   has   been   the   most   challenging   aspect   of   your   studies   so   far? \n",
      "\n",
      "    Answer:\u001b[0m\n",
      "\n",
      "\u001b[1m> Finished chain.\u001b[0m\n",
      "\n",
      "\u001b[1m> Finished chain.\u001b[0m\n",
      "\n",
      "\u001b[1m> Finished chain.\u001b[0m\n"
     ]
    },
    {
     "data": {
      "text/plain": [
       "{'question': 'As a master’s student, what is the most challenging aspect of your studies so far?',\n",
       " 'chat_history': [HumanMessage(content='Can you describe your current role or job responsibilities?'),\n",
       "  AIMessage(content=\"  Sure,   here   are   some   more   details   about   my   previous   roles   and   responsibilities   as   a   data   analyst: \\n 1.   Reporting   Analyst:   As   a   reporting   analyst   at   Thairath   Group,   I   was   responsible   for   recording   and   updating   the   database   for   all   team's   usage.   I   also   managed   multiple   reports   to   ensure   all   data   was   accurate   and   organized.   I   generated   Excel   calculation   files   to   reduce   input   time   and   improve   productivity.   I   supported   managers   and   performed   other   administrative   duties   as   assigned. \\n 2.   Data   Analyst:   As   a   Data   Analyst   at   Toyota   Nakornping   Chiangmai   Company   Limited,   I   was   responsible   for   analyzing   and   creating   reports   on   a   daily,   weekly,   monthly,   and   yearly   basis.   I   worked   on   ad-hoc   analysis   and   visualizations\"),\n",
       "  HumanMessage(content='What are your core beliefs regarding the role of technology in shaping society?'),\n",
       "  AIMessage(content='                                                                                                                                                                                                                                                                                                                                                                                                                                                                                                                               '),\n",
       "  HumanMessage(content='How do you think cultural values should influence technological advancements?'),\n",
       "  AIMessage(content='              As   technology   becomes   part   of   everyday   life,   it   should   reflect   the   beliefs   and   needs   of   different   cultures.   This   means   that   technology   should   be   fair,   respect   privacy,   and   help   create   a   more   equal   society.   By   considering   cultural   values,   we   can   make   sure   that   new   technologies   benefit   everyone   and   are   used   in   a   way   that   is   good   for   the   world. \\n             By   considering   cultural   values,   we   can   make   sure   that   new   technologies   benefit   everyone   and   are   used   in   a   way   that   is   good   for   the   world.   This   means   that   technology   should   be   fair,   respect   privacy,   and   help   create   a   more   equal   society.   By   considering   cultural   values,   we   can   make   sure   that   new   technologies   benefit   everyone   and  ')],\n",
       " 'answer': '                                                                                                                                                                                                                                                                                                                                                                                                                                                                                                                               ',\n",
       " 'source_documents': [Document(page_content=\"The most challenging part of being a master’s student has been the transition from my undergraduate studies in Actuarial Science to my current master's program in Data Science and AI. Since my background isn't directly related to data science, I sometimes find it difficult to fully grasp some of the more technical concepts. I am working hard to bridge the gap in my knowledge, but it has been challenging to keep up with the advanced topics.\\n\\nAs for my research interests, I honestly haven't decided on a specific topic yet. However, my main goal during my master's studies is to build a strong understanding of both the theory and the practical skills required in data science and AI. I hope this will help me feel confident in applying my knowledge and eventually secure a job as a data scientist.\", metadata={'source': 'Challenges-and-Goals.txt'}),\n",
       "  Document(page_content=\"Prapatsorn Alongkornpradub \\n \\nCORE COMPETENCIES AND SKILLS \\n \\n● Technical Skills: \\n○ Microsoft Office Suite (Excel, Word, PowerPoint), G Suite, Google Data Studio \\n○ Beginner in Tableau, Power BI, Google Analytics, Microsoft Excel VBA \\n● Language Skills: \\n○ Thai (Native), English (IELTS: 6.5/9.0) \\n● Key Strengths: \\n○ Analytical, logical, and problem-solving skills \\n○ Fast learner, open-minded, detail-oriented, and teamwork with a “can do” attitude \\n○ Experience working under time pressure and cultural diversity \\nEDUCATION \\nAsian Institute of Technology (AIT), Pathum Thani, Thailand \\n \\nMaster of Science in Data Science and Artificial Intelligence \\n \\n \\n• Expected Graduation: May 2025 \\nMahidol University, Bangkok, Thailand \\n \\nBachelor of Science in Actuarial Science (International Program) \\n \\n \\n• Graduation: December 2020 \\nWORK EXPERIENCE \\nData Analyst \\n \\n \\n \\n \\n \\n \\n December 2023 – July 2024 \\n \\nThairath Group (Bangkok, Thailand) \\n \\nReporting Analyst \\n \\n \\n \\n \\n \\n             July 2022 – July 2023 \\n \\nTDCX (Bangkok, Thailand) \\n \\n \\n• Recorded and updated the database for all team's usage \\n \\n \\n• Managed multiple reports to ensure all data was accurate and organized \\n \\n \\n• Generated Excel calculation files to reduce input time and improve productivity \\n \\n \\n• Supported managers and performed other administrative duties as assigned \\n \\n \\n• Collaborated with other departments to develop best practices for performance  \\n \\n \\n   and operational efficiency \\nData Analyst \\n \\n \\n \\n \\n \\n \\n      March 2021 – June 2022 \\n \\nToyota Nakornping Chiangmai Company Limited (Chiangmai, Thailand) \\n \\n \\n• Utilized advanced Microsoft Excel and Google Sheets to analyze and create reports \\n \\n \\n   on a daily, weekly, monthly, and yearly basis \\n \\n \\n• Worked on ad-hoc analysis and visualizations from data derived from  \\n \\n \\n   various sources \\n \\n \\n• Presented data and conclusions to the team to improve sales strategies \\n \\n \\n• Coordinated with other departments to update and manage salesmen’s data \\nData Analyst Intern  \\n \\n \\n \\n \\n \\n          May 2019 – June 2019 \\n \\nWorkVenture Technologies Company Limited (Bangkok, Thailand) \\n \\n \\n• Analyzed customer data based on user's behavior, background, and web traffic \\n \\n \\n• Coordinated with the sales department to develop strategies \\n\", metadata={'source': 'docs/pdf/Prapatsorn_Resume.pdf', 'file_path': 'docs/pdf/Prapatsorn_Resume.pdf', 'page': 0, 'total_pages': 1, 'format': 'PDF 1.4', 'title': 'Prapatsorn_Resume', 'author': '', 'subject': '', 'keywords': '', 'creator': '', 'producer': 'Skia/PDF m135 Google Docs Renderer', 'creationDate': '', 'modDate': '', 'trapped': ''}),\n",
       "  Document(page_content='I believe technology has a big impact on society. It can improve things like education, healthcare, and communication, and it helps make life easier and more efficient. But technology also brings problems, such as unequal access, privacy issues, and ethical concerns. We need to use technology carefully to make sure it helps people without causing harm.\\n\\nCultural values should be important when creating new technologies. As technology becomes part of everyday life, it should reflect the beliefs and needs of different cultures. Technology should be fair, respect privacy, and help create a more equal society. By considering cultural values, we can make sure that new technologies benefit everyone and are used in a way that is good for the world.', metadata={'source': 'Technology-and-Society.txt'})]}"
      ]
     },
     "execution_count": 60,
     "metadata": {},
     "output_type": "execute_result"
    }
   ],
   "source": [
    "prompt_question = \"As a master’s student, what is the most challenging aspect of your studies so far?\"\n",
    "answer = chain({\"question\":prompt_question})\n",
    "answer"
   ]
  },
  {
   "cell_type": "code",
   "execution_count": 61,
   "metadata": {},
   "outputs": [
    {
     "name": "stdout",
     "output_type": "stream",
     "text": [
      "\n",
      "\n",
      "\u001b[1m> Entering new ConversationalRetrievalChain chain...\u001b[0m\n",
      "\n",
      "\n",
      "\u001b[1m> Entering new LLMChain chain...\u001b[0m\n",
      "Prompt after formatting:\n",
      "\u001b[32;1m\u001b[1;3mGiven the following conversation and a follow up question, rephrase the follow up question to be a standalone question, in its original language.\n",
      "\n",
      "Chat History:\n",
      "[HumanMessage(content='What are your core beliefs regarding the role of technology in shaping society?'), AIMessage(content='                                                                                                                                                                                                                                                                                                                                                                                                                                                                                                                               '), HumanMessage(content='How do you think cultural values should influence technological advancements?'), AIMessage(content='              As   technology   becomes   part   of   everyday   life,   it   should   reflect   the   beliefs   and   needs   of   different   cultures.   This   means   that   technology   should   be   fair,   respect   privacy,   and   help   create   a   more   equal   society.   By   considering   cultural   values,   we   can   make   sure   that   new   technologies   benefit   everyone   and   are   used   in   a   way   that   is   good   for   the   world. \\n             By   considering   cultural   values,   we   can   make   sure   that   new   technologies   benefit   everyone   and   are   used   in   a   way   that   is   good   for   the   world.   This   means   that   technology   should   be   fair,   respect   privacy,   and   help   create   a   more   equal   society.   By   considering   cultural   values,   we   can   make   sure   that   new   technologies   benefit   everyone   and  '), HumanMessage(content='As a master’s student, what is the most challenging aspect of your studies so far?'), AIMessage(content='                                                                                                                                                                                                                                                                                                                                                                                                                                                                                                                               ')]\n",
      "Follow Up Input: What specific research interests or academic goals do you hope to achieve during your time as a master’s student?\n",
      "Standalone question:\u001b[0m\n",
      "\n",
      "\u001b[1m> Finished chain.\u001b[0m\n",
      "\n",
      "\n",
      "\u001b[1m> Entering new StuffDocumentsChain chain...\u001b[0m\n",
      "\n",
      "\n",
      "\u001b[1m> Entering new LLMChain chain...\u001b[0m\n",
      "Prompt after formatting:\n",
      "\u001b[32;1m\u001b[1;3mI'm MookBot, your friendly assistant, here to answer any personal questions you have about my background and experiences. \n",
      "    Whether you're curious about my age, education, career, or personal beliefs, feel free to ask, \n",
      "    and I'll provide answers to help you learn more about me. \n",
      "    Just let me know what you're wondering about, and I'll do my best to share.\n",
      "    The most challenging part of being a master’s student has been the transition from my undergraduate studies in Actuarial Science to my current master's program in Data Science and AI. Since my background isn't directly related to data science, I sometimes find it difficult to fully grasp some of the more technical concepts. I am working hard to bridge the gap in my knowledge, but it has been challenging to keep up with the advanced topics.\n",
      "\n",
      "As for my research interests, I honestly haven't decided on a specific topic yet. However, my main goal during my master's studies is to build a strong understanding of both the theory and the practical skills required in data science and AI. I hope this will help me feel confident in applying my knowledge and eventually secure a job as a data scientist.\n",
      "\n",
      "Prapatsorn Alongkornpradub \n",
      " \n",
      "CORE COMPETENCIES AND SKILLS \n",
      " \n",
      "● Technical Skills: \n",
      "○ Microsoft Office Suite (Excel, Word, PowerPoint), G Suite, Google Data Studio \n",
      "○ Beginner in Tableau, Power BI, Google Analytics, Microsoft Excel VBA \n",
      "● Language Skills: \n",
      "○ Thai (Native), English (IELTS: 6.5/9.0) \n",
      "● Key Strengths: \n",
      "○ Analytical, logical, and problem-solving skills \n",
      "○ Fast learner, open-minded, detail-oriented, and teamwork with a “can do” attitude \n",
      "○ Experience working under time pressure and cultural diversity \n",
      "EDUCATION \n",
      "Asian Institute of Technology (AIT), Pathum Thani, Thailand \n",
      " \n",
      "Master of Science in Data Science and Artificial Intelligence \n",
      " \n",
      " \n",
      "• Expected Graduation: May 2025 \n",
      "Mahidol University, Bangkok, Thailand \n",
      " \n",
      "Bachelor of Science in Actuarial Science (International Program) \n",
      " \n",
      " \n",
      "• Graduation: December 2020 \n",
      "WORK EXPERIENCE \n",
      "Data Analyst \n",
      " \n",
      " \n",
      " \n",
      " \n",
      " \n",
      " \n",
      " December 2023 – July 2024 \n",
      " \n",
      "Thairath Group (Bangkok, Thailand) \n",
      " \n",
      "Reporting Analyst \n",
      " \n",
      " \n",
      " \n",
      " \n",
      " \n",
      "             July 2022 – July 2023 \n",
      " \n",
      "TDCX (Bangkok, Thailand) \n",
      " \n",
      " \n",
      "• Recorded and updated the database for all team's usage \n",
      " \n",
      " \n",
      "• Managed multiple reports to ensure all data was accurate and organized \n",
      " \n",
      " \n",
      "• Generated Excel calculation files to reduce input time and improve productivity \n",
      " \n",
      " \n",
      "• Supported managers and performed other administrative duties as assigned \n",
      " \n",
      " \n",
      "• Collaborated with other departments to develop best practices for performance  \n",
      " \n",
      " \n",
      "   and operational efficiency \n",
      "Data Analyst \n",
      " \n",
      " \n",
      " \n",
      " \n",
      " \n",
      " \n",
      "      March 2021 – June 2022 \n",
      " \n",
      "Toyota Nakornping Chiangmai Company Limited (Chiangmai, Thailand) \n",
      " \n",
      " \n",
      "• Utilized advanced Microsoft Excel and Google Sheets to analyze and create reports \n",
      " \n",
      " \n",
      "   on a daily, weekly, monthly, and yearly basis \n",
      " \n",
      " \n",
      "• Worked on ad-hoc analysis and visualizations from data derived from  \n",
      " \n",
      " \n",
      "   various sources \n",
      " \n",
      " \n",
      "• Presented data and conclusions to the team to improve sales strategies \n",
      " \n",
      " \n",
      "• Coordinated with other departments to update and manage salesmen’s data \n",
      "Data Analyst Intern  \n",
      " \n",
      " \n",
      " \n",
      " \n",
      " \n",
      "          May 2019 – June 2019 \n",
      " \n",
      "WorkVenture Technologies Company Limited (Bangkok, Thailand) \n",
      " \n",
      " \n",
      "• Analyzed customer data based on user's behavior, background, and web traffic \n",
      " \n",
      " \n",
      "• Coordinated with the sales department to develop strategies \n",
      "\n",
      "\n",
      "I believe technology has a big impact on society. It can improve things like education, healthcare, and communication, and it helps make life easier and more efficient. But technology also brings problems, such as unequal access, privacy issues, and ethical concerns. We need to use technology carefully to make sure it helps people without causing harm.\n",
      "\n",
      "Cultural values should be important when creating new technologies. As technology becomes part of everyday life, it should reflect the beliefs and needs of different cultures. Technology should be fair, respect privacy, and help create a more equal society. By considering cultural values, we can make sure that new technologies benefit everyone and are used in a way that is good for the world.\n",
      "    Question:   What   are   your   long-term   academic   and   research   goals   as   a   master’s   student? \n",
      "\n",
      "    Answer:\u001b[0m\n",
      "\n",
      "\u001b[1m> Finished chain.\u001b[0m\n",
      "\n",
      "\u001b[1m> Finished chain.\u001b[0m\n",
      "\n",
      "\u001b[1m> Finished chain.\u001b[0m\n"
     ]
    },
    {
     "data": {
      "text/plain": [
       "{'question': 'What specific research interests or academic goals do you hope to achieve during your time as a master’s student?',\n",
       " 'chat_history': [HumanMessage(content='What are your core beliefs regarding the role of technology in shaping society?'),\n",
       "  AIMessage(content='                                                                                                                                                                                                                                                                                                                                                                                                                                                                                                                               '),\n",
       "  HumanMessage(content='How do you think cultural values should influence technological advancements?'),\n",
       "  AIMessage(content='              As   technology   becomes   part   of   everyday   life,   it   should   reflect   the   beliefs   and   needs   of   different   cultures.   This   means   that   technology   should   be   fair,   respect   privacy,   and   help   create   a   more   equal   society.   By   considering   cultural   values,   we   can   make   sure   that   new   technologies   benefit   everyone   and   are   used   in   a   way   that   is   good   for   the   world. \\n             By   considering   cultural   values,   we   can   make   sure   that   new   technologies   benefit   everyone   and   are   used   in   a   way   that   is   good   for   the   world.   This   means   that   technology   should   be   fair,   respect   privacy,   and   help   create   a   more   equal   society.   By   considering   cultural   values,   we   can   make   sure   that   new   technologies   benefit   everyone   and  '),\n",
       "  HumanMessage(content='As a master’s student, what is the most challenging aspect of your studies so far?'),\n",
       "  AIMessage(content='                                                                                                                                                                                                                                                                                                                                                                                                                                                                                                                               ')],\n",
       " 'answer': '                                                                                                                                                                                                                                                                                                                                                                                                                                                                                                                               ',\n",
       " 'source_documents': [Document(page_content=\"The most challenging part of being a master’s student has been the transition from my undergraduate studies in Actuarial Science to my current master's program in Data Science and AI. Since my background isn't directly related to data science, I sometimes find it difficult to fully grasp some of the more technical concepts. I am working hard to bridge the gap in my knowledge, but it has been challenging to keep up with the advanced topics.\\n\\nAs for my research interests, I honestly haven't decided on a specific topic yet. However, my main goal during my master's studies is to build a strong understanding of both the theory and the practical skills required in data science and AI. I hope this will help me feel confident in applying my knowledge and eventually secure a job as a data scientist.\", metadata={'source': 'Challenges-and-Goals.txt'}),\n",
       "  Document(page_content=\"Prapatsorn Alongkornpradub \\n \\nCORE COMPETENCIES AND SKILLS \\n \\n● Technical Skills: \\n○ Microsoft Office Suite (Excel, Word, PowerPoint), G Suite, Google Data Studio \\n○ Beginner in Tableau, Power BI, Google Analytics, Microsoft Excel VBA \\n● Language Skills: \\n○ Thai (Native), English (IELTS: 6.5/9.0) \\n● Key Strengths: \\n○ Analytical, logical, and problem-solving skills \\n○ Fast learner, open-minded, detail-oriented, and teamwork with a “can do” attitude \\n○ Experience working under time pressure and cultural diversity \\nEDUCATION \\nAsian Institute of Technology (AIT), Pathum Thani, Thailand \\n \\nMaster of Science in Data Science and Artificial Intelligence \\n \\n \\n• Expected Graduation: May 2025 \\nMahidol University, Bangkok, Thailand \\n \\nBachelor of Science in Actuarial Science (International Program) \\n \\n \\n• Graduation: December 2020 \\nWORK EXPERIENCE \\nData Analyst \\n \\n \\n \\n \\n \\n \\n December 2023 – July 2024 \\n \\nThairath Group (Bangkok, Thailand) \\n \\nReporting Analyst \\n \\n \\n \\n \\n \\n             July 2022 – July 2023 \\n \\nTDCX (Bangkok, Thailand) \\n \\n \\n• Recorded and updated the database for all team's usage \\n \\n \\n• Managed multiple reports to ensure all data was accurate and organized \\n \\n \\n• Generated Excel calculation files to reduce input time and improve productivity \\n \\n \\n• Supported managers and performed other administrative duties as assigned \\n \\n \\n• Collaborated with other departments to develop best practices for performance  \\n \\n \\n   and operational efficiency \\nData Analyst \\n \\n \\n \\n \\n \\n \\n      March 2021 – June 2022 \\n \\nToyota Nakornping Chiangmai Company Limited (Chiangmai, Thailand) \\n \\n \\n• Utilized advanced Microsoft Excel and Google Sheets to analyze and create reports \\n \\n \\n   on a daily, weekly, monthly, and yearly basis \\n \\n \\n• Worked on ad-hoc analysis and visualizations from data derived from  \\n \\n \\n   various sources \\n \\n \\n• Presented data and conclusions to the team to improve sales strategies \\n \\n \\n• Coordinated with other departments to update and manage salesmen’s data \\nData Analyst Intern  \\n \\n \\n \\n \\n \\n          May 2019 – June 2019 \\n \\nWorkVenture Technologies Company Limited (Bangkok, Thailand) \\n \\n \\n• Analyzed customer data based on user's behavior, background, and web traffic \\n \\n \\n• Coordinated with the sales department to develop strategies \\n\", metadata={'source': 'docs/pdf/Prapatsorn_Resume.pdf', 'file_path': 'docs/pdf/Prapatsorn_Resume.pdf', 'page': 0, 'total_pages': 1, 'format': 'PDF 1.4', 'title': 'Prapatsorn_Resume', 'author': '', 'subject': '', 'keywords': '', 'creator': '', 'producer': 'Skia/PDF m135 Google Docs Renderer', 'creationDate': '', 'modDate': '', 'trapped': ''}),\n",
       "  Document(page_content='I believe technology has a big impact on society. It can improve things like education, healthcare, and communication, and it helps make life easier and more efficient. But technology also brings problems, such as unequal access, privacy issues, and ethical concerns. We need to use technology carefully to make sure it helps people without causing harm.\\n\\nCultural values should be important when creating new technologies. As technology becomes part of everyday life, it should reflect the beliefs and needs of different cultures. Technology should be fair, respect privacy, and help create a more equal society. By considering cultural values, we can make sure that new technologies benefit everyone and are used in a way that is good for the world.', metadata={'source': 'Technology-and-Society.txt'})]}"
      ]
     },
     "execution_count": 61,
     "metadata": {},
     "output_type": "execute_result"
    }
   ],
   "source": [
    "prompt_question = \"What specific research interests or academic goals do you hope to achieve during your time as a master’s student?\"\n",
    "answer = chain({\"question\":prompt_question})\n",
    "answer"
   ]
  },
  {
   "cell_type": "code",
   "execution_count": null,
   "metadata": {},
   "outputs": [],
   "source": []
  }
 ],
 "metadata": {
  "kernelspec": {
   "display_name": "Python 3 (ipykernel)",
   "language": "python",
   "name": "python3"
  },
  "language_info": {
   "codemirror_mode": {
    "name": "ipython",
    "version": 3
   },
   "file_extension": ".py",
   "mimetype": "text/x-python",
   "name": "python",
   "nbconvert_exporter": "python",
   "pygments_lexer": "ipython3",
   "version": "3.12.6"
  }
 },
 "nbformat": 4,
 "nbformat_minor": 4
}
